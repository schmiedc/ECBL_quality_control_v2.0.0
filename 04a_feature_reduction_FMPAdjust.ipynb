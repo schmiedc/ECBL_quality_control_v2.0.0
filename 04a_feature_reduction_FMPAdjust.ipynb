{
 "cells": [
  {
   "cell_type": "code",
   "execution_count": 3,
   "metadata": {},
   "outputs": [],
   "source": [
    "import time\n",
    "from datetime import date\n",
    "import pandas as pd\n",
    "import os\n",
    "import glob\n",
    "import pycytominer\n",
    "import sys\n",
    "import CBE_utils as CBE\n",
    "import matplotlib.pyplot as plt\n",
    "import seaborn as sns\n",
    "import numpy as np\n",
    "import re\n",
    "import gc\n",
    "from pathlib import Path"
   ]
  },
  {
   "cell_type": "code",
   "execution_count": 4,
   "metadata": {},
   "outputs": [
    {
     "data": {
      "text/plain": [
       "<module 'CBE_utils' from '/home/schmiedc/FMP_Docs/Projects/ECBL_Project/QualityControl_analysis_revision/notebooks_revision/CBE_utils.py'>"
      ]
     },
     "execution_count": 4,
     "metadata": {},
     "output_type": "execute_result"
    }
   ],
   "source": [
    "import importlib\n",
    "importlib.reload(CBE)"
   ]
  },
  {
   "cell_type": "code",
   "execution_count": 5,
   "metadata": {},
   "outputs": [],
   "source": [
    "input_path = \"/home/schmiedc/FMP_Docs/Projects/ECBL_Project/QualityControl_analysis_revision/output/\"\n",
    "\n",
    "annotation_dir = \"/home/schmiedc/FMP_Docs/Projects/ECBL_Project/QualityControl_analysis_revision/annotation/\""
   ]
  },
  {
   "cell_type": "markdown",
   "metadata": {},
   "source": [
    "# Test\n",
    "input_path = \"/home/schmiedc/FMP_Docs/Projects/ECBL_Project/QualityControl_analysis_revision/test_output/\"\n",
    "\n",
    "annotation_dir = \"/home/schmiedc/FMP_Docs/Projects/ECBL_Project/QualityControl_analysis_revision/test_annotation/\""
   ]
  },
  {
   "cell_type": "code",
   "execution_count": 6,
   "metadata": {},
   "outputs": [],
   "source": [
    "# get folder list \n",
    "# load for each site the normalized files\n",
    "# reduce the features selecting the correct feature list\n",
    "folders = [name for name in os.listdir(input_path) if os.path.isdir(os.path.join(input_path, name))]"
   ]
  },
  {
   "cell_type": "code",
   "execution_count": 7,
   "metadata": {},
   "outputs": [],
   "source": [
    "# TODO: Get only FMP Data\n",
    "# TODO: Filter out problematic batches\n",
    "# FMP Problematic plates: all replicates of plates C1084-C1093\n",
    "# Also problematic: 240710, 240717, 240718\n"
   ]
  },
  {
   "cell_type": "code",
   "execution_count": 8,
   "metadata": {},
   "outputs": [],
   "source": [
    "def extract_plate_info(path): \n",
    "     \n",
    "    match = re.search(r'(\\d{4}-\\d{2}-\\d{2}_[A-Za-z0-9]+_R\\d)', path)\n",
    "    full_id = match.group(1) if match else None\n",
    "\n",
    "    # Extract the date string (e.g., 2024-06-05)\n",
    "    date_match = re.search(r'(\\d{4}-\\d{2}-\\d{2})', full_id) if full_id else None\n",
    "    batch = date_match.group(1) if date_match else None\n",
    "\n",
    "    id_match  = re.search(r'_([A-Za-z0-9]+)_R(\\d)', full_id) if full_id else None\n",
    "    plate = id_match.group(1) if id_match else None\n",
    "    replicate = id_match.group(2) if id_match else None\n",
    "\n",
    "    return {\n",
    "        \"path\": path,\n",
    "        \"full_id\": full_id,\n",
    "        \"batch\": batch,\n",
    "        \"plate\": plate,\n",
    "        \"replicate\": f\"R{replicate}\" if replicate else None\n",
    "    }"
   ]
  },
  {
   "cell_type": "code",
   "execution_count": 9,
   "metadata": {},
   "outputs": [],
   "source": [
    "site_specific_path = os.path.join(input_path, 'FMP')\n",
    "\n",
    "# loads mad_robustize normalized data\n",
    "pattern = \"[A-Z][0-9][0-9][0-9][0-9]_R[1-4]_mad_robustize.csv\"\n",
    "file_list = glob.glob(site_specific_path + os.sep + '*' + os.sep + pattern, recursive=True)\n",
    "\n",
    "files = [extract_plate_info(path) for path in file_list]\n",
    "\n",
    "file_dataframe = pd.DataFrame(files)\n",
    "\n",
    "file_dataframe['plate_replicate'] = file_dataframe['plate'] + '_' + file_dataframe['replicate']"
   ]
  },
  {
   "cell_type": "code",
   "execution_count": 10,
   "metadata": {},
   "outputs": [],
   "source": [
    "# Remove batches FMP\n",
    "remove_batch = ['2024-07-10', \n",
    "                '2024-07-17', \n",
    "                '2024-07-18']\n",
    "\n",
    "remove_plate = ['C1084', \n",
    "                'C1085', \n",
    "                'C1086',\n",
    "                'C1087', \n",
    "                'C1088',\n",
    "                'C1089',\n",
    "                'C1090', \n",
    "                'C1091', \n",
    "                'C1092',\n",
    "                'C1093']\n",
    "\n",
    "remove_plate_replicate = ['C1119_R3',\n",
    "                          'C1123_R2']\n",
    "    "
   ]
  },
  {
   "cell_type": "code",
   "execution_count": 11,
   "metadata": {},
   "outputs": [
    {
     "name": "stdout",
     "output_type": "stream",
     "text": [
      "147  out of 300 plates processed\n",
      "49 % processed\n",
      "32  plates rejected\n",
      "21 % plates rejected\n"
     ]
    }
   ],
   "source": [
    "number_processed = len(file_dataframe)\n",
    "print(number_processed, ' out of 300 plates processed') \n",
    "precent_processed = (number_processed / 300 ) * 100\n",
    "print(int(precent_processed), '% processed')\n",
    "\n",
    "file_dataframe_filtered_1 = file_dataframe[~file_dataframe[\"batch\"].isin(remove_batch)]\n",
    "file_dataframe_filtered_2 = file_dataframe_filtered_1[~file_dataframe_filtered_1 [\"plate\"].isin(remove_plate)]\n",
    "file_dataframe_filtered_3 = file_dataframe_filtered_2[~file_dataframe_filtered_2['plate_replicate'].isin(remove_plate_replicate)]\n",
    "\n",
    "rejected_plates = number_processed - len(file_dataframe_filtered_3)\n",
    "print(rejected_plates, ' plates rejected')\n",
    "\n",
    "percent_rejected = (rejected_plates / number_processed) * 100\n",
    "print(int(percent_rejected), '% plates rejected')"
   ]
  },
  {
   "cell_type": "markdown",
   "metadata": {},
   "source": [
    "# Rejected IMTM"
   ]
  },
  {
   "cell_type": "code",
   "execution_count": 12,
   "metadata": {},
   "outputs": [],
   "source": [
    "site_specific_path = os.path.join(input_path, 'IMTM')\n",
    "\n",
    "# loads mad_robustize normalized data\n",
    "pattern = \"[A-Z][0-9][0-9][0-9][0-9]_R[1-4]_mad_robustize.csv\"\n",
    "file_list = glob.glob(site_specific_path + os.sep + '*' + os.sep + pattern, recursive=True)\n",
    "\n",
    "files = [extract_plate_info(path) for path in file_list]\n",
    "\n",
    "file_dataframe = pd.DataFrame(files)\n",
    "\n",
    "file_dataframe['plate_replicate'] = file_dataframe['plate'] + '_' + file_dataframe['replicate']"
   ]
  },
  {
   "cell_type": "code",
   "execution_count": 13,
   "metadata": {},
   "outputs": [],
   "source": [
    "# Remove batches FMP\n",
    "remove_batch = ['2024-05-30', \n",
    "                '2024-06-03', \n",
    "                '2024-06-05', \n",
    "                '2024-06-06',\n",
    "                '2024-06-07',\n",
    "                '2024-06-10',\n",
    "                '2024-06-11',\n",
    "                '2024-06-17',\n",
    "                '2024-06-19',\n",
    "                '2024-06-20',\n",
    "                '2024-06-21',\n",
    "                '2024-06-24',\n",
    "                '2024-06-25',\n",
    "                '2024-06-27',\n",
    "                '2024-07-01',\n",
    "                '2024-11-05']\n",
    "\n",
    "remove_plate = []\n",
    "\n",
    "remove_plate_replicate = ['C1252_R2']"
   ]
  },
  {
   "cell_type": "code",
   "execution_count": 14,
   "metadata": {},
   "outputs": [
    {
     "name": "stdout",
     "output_type": "stream",
     "text": [
      "179  out of 300 plates processed\n",
      "59 % processed\n",
      "41  plates rejected\n",
      "22 % plates rejected\n"
     ]
    }
   ],
   "source": [
    "number_processed = len(file_dataframe)\n",
    "print(number_processed, ' out of 300 plates processed') \n",
    "precent_processed = (number_processed / 300 ) * 100\n",
    "print(int(precent_processed), '% processed')\n",
    "\n",
    "file_dataframe_filtered_1 = file_dataframe[~file_dataframe[\"batch\"].isin(remove_batch)]\n",
    "file_dataframe_filtered_2 = file_dataframe_filtered_1[~file_dataframe_filtered_1[\"plate\"].isin(remove_plate)]\n",
    "file_dataframe_filtered_3 = file_dataframe_filtered_2[~file_dataframe_filtered_2['plate_replicate'].isin(remove_plate_replicate)]\n",
    "\n",
    "rejected_plates = number_processed - len(file_dataframe_filtered_3)\n",
    "rejected_corr = rejected_plates - len(remove_batch) + 1\n",
    "print(rejected_corr, ' plates rejected')\n",
    "\n",
    "percent_rejected = rejected_corr / number_processed * 100\n",
    "print(int(percent_rejected), '% plates rejected')"
   ]
  },
  {
   "cell_type": "markdown",
   "metadata": {},
   "source": [
    "# Reject USC"
   ]
  },
  {
   "cell_type": "code",
   "execution_count": 23,
   "metadata": {},
   "outputs": [],
   "source": [
    "site_specific_path = os.path.join(input_path, 'USC')\n",
    "\n",
    "# loads mad_robustize normalized data\n",
    "pattern = \"[A-Z][0-9][0-9][0-9][0-9]_R[1-4]_mad_robustize.csv\"\n",
    "file_list = glob.glob(site_specific_path + os.sep + '*' + os.sep + pattern, recursive=True)\n",
    "\n",
    "files = [extract_plate_info(path) for path in file_list]\n",
    "\n",
    "file_dataframe = pd.DataFrame(files)\n",
    "\n",
    "file_dataframe['plate_replicate'] = file_dataframe['plate'] + '_' + file_dataframe['replicate']"
   ]
  },
  {
   "cell_type": "code",
   "execution_count": 24,
   "metadata": {},
   "outputs": [],
   "source": [
    "# Remove batches FMP\n",
    "remove_batch = ['2024-06-14',\n",
    "                '2024-06-15',\n",
    "                '2024-06-17',\n",
    "                '2024-06-19',\n",
    "                '2024-06-21']\n",
    "\n",
    "remove_plate = []\n",
    "\n",
    "remove_plate_replicate = []"
   ]
  },
  {
   "cell_type": "code",
   "execution_count": 25,
   "metadata": {},
   "outputs": [
    {
     "name": "stdout",
     "output_type": "stream",
     "text": [
      "208  out of 300 plates processed\n",
      "69 % processed\n",
      "15  plates rejected\n",
      "7 % plates rejected\n"
     ]
    }
   ],
   "source": [
    "number_processed = len(file_dataframe)\n",
    "print(number_processed, ' out of 300 plates processed') \n",
    "precent_processed = (number_processed / 300 ) * 100\n",
    "print(int(precent_processed), '% processed')\n",
    "\n",
    "file_dataframe_filtered_1 = file_dataframe[~file_dataframe[\"batch\"].isin(remove_batch)]\n",
    "file_dataframe_filtered_2 = file_dataframe_filtered_1[~file_dataframe_filtered_1[\"plate\"].isin(remove_plate)]\n",
    "file_dataframe_filtered_3 = file_dataframe_filtered_2[~file_dataframe_filtered_2['plate_replicate'].isin(remove_plate_replicate)]\n",
    "\n",
    "rejected_plates = number_processed - len(file_dataframe_filtered_3)\n",
    "rejected_corr = rejected_plates - len(remove_batch) + 1\n",
    "print(rejected_corr, ' plates rejected')\n",
    "\n",
    "percent_rejected = rejected_corr / number_processed * 100\n",
    "print(int(percent_rejected), '% plates rejected')"
   ]
  },
  {
   "cell_type": "markdown",
   "metadata": {},
   "source": [
    "# Reject MEDINA"
   ]
  },
  {
   "cell_type": "code",
   "execution_count": 20,
   "metadata": {},
   "outputs": [],
   "source": [
    "site_specific_path = os.path.join(input_path, 'MEDINA')\n",
    "\n",
    "# loads mad_robustize normalized data\n",
    "pattern = \"[A-Z][0-9][0-9][0-9][0-9]_R[1-4]_mad_robustize.csv\"\n",
    "file_list = glob.glob(site_specific_path + os.sep + '*' + os.sep + pattern, recursive=True)\n",
    "\n",
    "files = [extract_plate_info(path) for path in file_list]\n",
    "\n",
    "file_dataframe = pd.DataFrame(files)\n",
    "\n",
    "file_dataframe['plate_replicate'] = file_dataframe['plate'] + '_' + file_dataframe['replicate']"
   ]
  },
  {
   "cell_type": "code",
   "execution_count": 21,
   "metadata": {},
   "outputs": [],
   "source": [
    "# Remove batches FMP\n",
    "remove_batch = ['2024-07-19',\n",
    "                '2024-09-13',\n",
    "                '2024-09-26',]\n",
    "\n",
    "remove_plate = []\n",
    "\n",
    "remove_plate_replicate = ['C1032_R1']"
   ]
  },
  {
   "cell_type": "code",
   "execution_count": 22,
   "metadata": {},
   "outputs": [
    {
     "name": "stdout",
     "output_type": "stream",
     "text": [
      "203  out of 300 plates processed\n",
      "67 % processed\n",
      "19  plates rejected\n",
      "9 % plates rejected\n"
     ]
    }
   ],
   "source": [
    "number_processed = len(file_dataframe)\n",
    "print(number_processed, ' out of 300 plates processed') \n",
    "precent_processed = (number_processed / 300 ) * 100\n",
    "print(int(precent_processed), '% processed')\n",
    "\n",
    "file_dataframe_filtered_1 = file_dataframe[~file_dataframe[\"batch\"].isin(remove_batch)]\n",
    "file_dataframe_filtered_2 = file_dataframe_filtered_1[~file_dataframe_filtered_1[\"plate\"].isin(remove_plate)]\n",
    "file_dataframe_filtered_3 = file_dataframe_filtered_2[~file_dataframe_filtered_2['plate_replicate'].isin(remove_plate_replicate)]\n",
    "\n",
    "rejected_plates = number_processed - len(file_dataframe_filtered_3)\n",
    "rejected_corr = rejected_plates - len(remove_batch) + 1\n",
    "print(rejected_corr, ' plates rejected')\n",
    "\n",
    "percent_rejected = rejected_corr / number_processed * 100\n",
    "print(int(percent_rejected), '% plates rejected')"
   ]
  },
  {
   "cell_type": "markdown",
   "metadata": {},
   "source": [
    "# Correlation based feature reduction"
   ]
  },
  {
   "cell_type": "code",
   "execution_count": 17,
   "metadata": {},
   "outputs": [],
   "source": [
    "# compute new feature set for each site using correlation based feature redcution\n",
    "\n",
    "def reduced_features(file_dataframe_filtered):\n",
    "\n",
    "    Data = []\n",
    "\n",
    "    file_list = file_dataframe_filtered['path']\n",
    "\n",
    "    for file in file_list:\n",
    "        \n",
    "        plate_map_name = os.path.splitext(os.path.basename(file))[0]\n",
    "        \n",
    "        try:\n",
    "            dataframe = pd.read_csv(file)\n",
    "            row_count = dataframe.shape[0]\n",
    "\n",
    "            Data.append(dataframe)\n",
    "        \n",
    "            print(f\"INFO: {plate_map_name} has {row_count} rows\")\n",
    "        \n",
    "        except Exception as e:\n",
    "        \n",
    "            print(f\"Error reading file {filename}: {e}\")\n",
    "\n",
    "    print(\"Feature reduction with correlation threshold 0.9 and Outlier threshold 100\")\n",
    "\n",
    "    Data_aggregated = pd.concat(Data)\n",
    "    Data_aggregated = Data_aggregated.reset_index(drop = True)\n",
    "    reduced_feature_dataframe = CBE.feature_reduction(Data_aggregated,\n",
    "                                             variance_freq_cut=0.1,\n",
    "                                             variance_unique_cut=0.1,\n",
    "                                             outlier_cutoff=100,\n",
    "                                             corr_threshold = 0.9,\n",
    "                                             print_stats = True)\n",
    "    \n",
    "    return CBE.get_feature_vector(reduced_feature_dataframe)"
   ]
  },
  {
   "cell_type": "code",
   "execution_count": 18,
   "metadata": {},
   "outputs": [
    {
     "name": "stdout",
     "output_type": "stream",
     "text": [
      "INFO: C1102_R4_mad_robustize has 384 rows\n",
      "INFO: C1096_R2_mad_robustize has 384 rows\n",
      "INFO: C1108_R4_mad_robustize has 383 rows\n",
      "INFO: C1120_R1_mad_robustize has 384 rows\n",
      "INFO: C1109_R1_mad_robustize has 384 rows\n",
      "INFO: C1097_R4_mad_robustize has 384 rows\n",
      "INFO: C1119_R4_mad_robustize has 384 rows\n",
      "INFO: C1103_R2_mad_robustize has 384 rows\n",
      "INFO: C1120_R2_mad_robustize has 384 rows\n",
      "INFO: C1112_R3_mad_robustize has 384 rows\n",
      "INFO: C1100_R2_mad_robustize has 384 rows\n",
      "INFO: C1102_R2_mad_robustize has 384 rows\n",
      "INFO: C1116_R2_mad_robustize has 384 rows\n",
      "INFO: C1112_R2_mad_robustize has 383 rows\n",
      "INFO: C1117_R1_mad_robustize has 384 rows\n",
      "INFO: C1123_R2_mad_robustize has 354 rows\n",
      "INFO: C1120_R3_mad_robustize has 383 rows\n",
      "INFO: C1099_R3_mad_robustize has 384 rows\n",
      "INFO: C1099_R2_mad_robustize has 384 rows\n",
      "INFO: C1110_R2_mad_robustize has 384 rows\n",
      "INFO: C1117_R4_mad_robustize has 384 rows\n",
      "INFO: C1103_R4_mad_robustize has 384 rows\n",
      "INFO: C1099_R1_mad_robustize has 378 rows\n",
      "INFO: C1123_R3_mad_robustize has 380 rows\n",
      "INFO: C1115_R4_mad_robustize has 384 rows\n",
      "INFO: C1111_R2_mad_robustize has 384 rows\n",
      "INFO: C1108_R1_mad_robustize has 384 rows\n",
      "INFO: C1117_R3_mad_robustize has 382 rows\n",
      "INFO: C1097_R3_mad_robustize has 384 rows\n",
      "INFO: C1122_R4_mad_robustize has 384 rows\n",
      "INFO: C1114_R4_mad_robustize has 384 rows\n",
      "INFO: C1119_R1_mad_robustize has 384 rows\n",
      "INFO: C1100_R3_mad_robustize has 384 rows\n",
      "INFO: C1105_R1_mad_robustize has 384 rows\n",
      "INFO: C1118_R2_mad_robustize has 384 rows\n",
      "INFO: C1108_R2_mad_robustize has 384 rows\n",
      "INFO: C1103_R1_mad_robustize has 382 rows\n",
      "INFO: C1109_R2_mad_robustize has 384 rows\n",
      "INFO: C1102_R1_mad_robustize has 378 rows\n",
      "INFO: C1115_R1_mad_robustize has 384 rows\n",
      "INFO: C1102_R3_mad_robustize has 384 rows\n",
      "INFO: C1119_R3_mad_robustize has 384 rows\n",
      "INFO: C1123_R4_mad_robustize has 383 rows\n",
      "INFO: C1104_R3_mad_robustize has 304 rows\n",
      "INFO: C1107_R2_mad_robustize has 383 rows\n",
      "INFO: C1105_R2_mad_robustize has 384 rows\n",
      "INFO: C1094_R1_mad_robustize has 380 rows\n",
      "INFO: C1122_R1_mad_robustize has 384 rows\n",
      "INFO: C1094_R4_mad_robustize has 384 rows\n",
      "INFO: C1095_R1_mad_robustize has 375 rows\n",
      "INFO: C1105_R3_mad_robustize has 384 rows\n",
      "INFO: C1116_R4_mad_robustize has 384 rows\n",
      "INFO: C1106_R2_mad_robustize has 384 rows\n",
      "INFO: C1112_R4_mad_robustize has 383 rows\n",
      "INFO: C1121_R3_mad_robustize has 384 rows\n",
      "INFO: C1098_R1_mad_robustize has 370 rows\n",
      "INFO: C1106_R4_mad_robustize has 384 rows\n",
      "INFO: C1095_R4_mad_robustize has 384 rows\n",
      "INFO: C1111_R3_mad_robustize has 384 rows\n",
      "INFO: C1123_R1_mad_robustize has 384 rows\n",
      "INFO: C1104_R1_mad_robustize has 384 rows\n",
      "INFO: C1100_R1_mad_robustize has 371 rows\n",
      "INFO: C1113_R1_mad_robustize has 384 rows\n",
      "INFO: C1101_R1_mad_robustize has 376 rows\n",
      "INFO: C1106_R1_mad_robustize has 384 rows\n",
      "INFO: C1098_R4_mad_robustize has 384 rows\n",
      "INFO: C1095_R3_mad_robustize has 384 rows\n",
      "INFO: C1113_R4_mad_robustize has 384 rows\n",
      "INFO: C1116_R1_mad_robustize has 384 rows\n",
      "INFO: C1112_R1_mad_robustize has 384 rows\n",
      "INFO: C1113_R2_mad_robustize has 384 rows\n",
      "INFO: C1108_R3_mad_robustize has 384 rows\n",
      "INFO: C1096_R1_mad_robustize has 370 rows\n",
      "INFO: C1094_R3_mad_robustize has 384 rows\n",
      "INFO: C1118_R4_mad_robustize has 384 rows\n",
      "INFO: C1101_R2_mad_robustize has 384 rows\n",
      "INFO: C1110_R3_mad_robustize has 384 rows\n",
      "INFO: C1117_R2_mad_robustize has 384 rows\n",
      "INFO: C1109_R4_mad_robustize has 384 rows\n",
      "INFO: C1121_R4_mad_robustize has 384 rows\n",
      "INFO: C1100_R4_mad_robustize has 384 rows\n",
      "INFO: C1120_R4_mad_robustize has 384 rows\n",
      "INFO: C1122_R2_mad_robustize has 384 rows\n",
      "INFO: C1115_R3_mad_robustize has 383 rows\n",
      "INFO: C1098_R3_mad_robustize has 384 rows\n",
      "INFO: C1101_R4_mad_robustize has 384 rows\n",
      "INFO: C1121_R2_mad_robustize has 384 rows\n",
      "INFO: C1122_R3_mad_robustize has 383 rows\n",
      "INFO: C1096_R3_mad_robustize has 384 rows\n",
      "INFO: C1114_R1_mad_robustize has 384 rows\n",
      "INFO: C1104_R2_mad_robustize has 384 rows\n",
      "INFO: C1113_R3_mad_robustize has 384 rows\n",
      "INFO: C1101_R3_mad_robustize has 384 rows\n",
      "INFO: C1099_R4_mad_robustize has 384 rows\n",
      "INFO: C1096_R4_mad_robustize has 384 rows\n",
      "INFO: C1095_R2_mad_robustize has 384 rows\n",
      "INFO: C1115_R2_mad_robustize has 384 rows\n",
      "INFO: C1121_R1_mad_robustize has 384 rows\n",
      "INFO: C1098_R2_mad_robustize has 384 rows\n",
      "INFO: C1114_R3_mad_robustize has 382 rows\n",
      "INFO: C1097_R2_mad_robustize has 384 rows\n",
      "INFO: C1119_R2_mad_robustize has 384 rows\n",
      "INFO: C1118_R1_mad_robustize has 384 rows\n",
      "INFO: C1110_R4_mad_robustize has 383 rows\n",
      "INFO: C1110_R1_mad_robustize has 384 rows\n",
      "INFO: C1116_R3_mad_robustize has 382 rows\n",
      "INFO: C1107_R1_mad_robustize has 384 rows\n",
      "INFO: C1109_R3_mad_robustize has 384 rows\n",
      "INFO: C1097_R1_mad_robustize has 375 rows\n",
      "INFO: C1107_R3_mad_robustize has 384 rows\n",
      "INFO: C1107_R4_mad_robustize has 384 rows\n",
      "INFO: C1118_R3_mad_robustize has 383 rows\n"
     ]
    },
    {
     "ename": "NameError",
     "evalue": "name 'filename' is not defined",
     "output_type": "error",
     "traceback": [
      "\u001b[0;31m---------------------------------------------------------------------------\u001b[0m",
      "\u001b[0;31mParserError\u001b[0m                               Traceback (most recent call last)",
      "Cell \u001b[0;32mIn[17], line 14\u001b[0m, in \u001b[0;36mreduced_features\u001b[0;34m(file_dataframe_filtered)\u001b[0m\n\u001b[1;32m     13\u001b[0m \u001b[38;5;28;01mtry\u001b[39;00m:\n\u001b[0;32m---> 14\u001b[0m     dataframe \u001b[38;5;241m=\u001b[39m \u001b[43mpd\u001b[49m\u001b[38;5;241;43m.\u001b[39;49m\u001b[43mread_csv\u001b[49m\u001b[43m(\u001b[49m\u001b[43mfile\u001b[49m\u001b[43m)\u001b[49m\n\u001b[1;32m     15\u001b[0m     row_count \u001b[38;5;241m=\u001b[39m dataframe\u001b[38;5;241m.\u001b[39mshape[\u001b[38;5;241m0\u001b[39m]\n",
      "File \u001b[0;32m~/miniconda3/envs/vspaint/lib/python3.9/site-packages/pandas/util/_decorators.py:211\u001b[0m, in \u001b[0;36mdeprecate_kwarg.<locals>._deprecate_kwarg.<locals>.wrapper\u001b[0;34m(*args, **kwargs)\u001b[0m\n\u001b[1;32m    210\u001b[0m         kwargs[new_arg_name] \u001b[38;5;241m=\u001b[39m new_arg_value\n\u001b[0;32m--> 211\u001b[0m \u001b[38;5;28;01mreturn\u001b[39;00m \u001b[43mfunc\u001b[49m\u001b[43m(\u001b[49m\u001b[38;5;241;43m*\u001b[39;49m\u001b[43margs\u001b[49m\u001b[43m,\u001b[49m\u001b[43m \u001b[49m\u001b[38;5;241;43m*\u001b[39;49m\u001b[38;5;241;43m*\u001b[39;49m\u001b[43mkwargs\u001b[49m\u001b[43m)\u001b[49m\n",
      "File \u001b[0;32m~/miniconda3/envs/vspaint/lib/python3.9/site-packages/pandas/util/_decorators.py:331\u001b[0m, in \u001b[0;36mdeprecate_nonkeyword_arguments.<locals>.decorate.<locals>.wrapper\u001b[0;34m(*args, **kwargs)\u001b[0m\n\u001b[1;32m    326\u001b[0m     warnings\u001b[38;5;241m.\u001b[39mwarn(\n\u001b[1;32m    327\u001b[0m         msg\u001b[38;5;241m.\u001b[39mformat(arguments\u001b[38;5;241m=\u001b[39m_format_argument_list(allow_args)),\n\u001b[1;32m    328\u001b[0m         \u001b[38;5;167;01mFutureWarning\u001b[39;00m,\n\u001b[1;32m    329\u001b[0m         stacklevel\u001b[38;5;241m=\u001b[39mfind_stack_level(),\n\u001b[1;32m    330\u001b[0m     )\n\u001b[0;32m--> 331\u001b[0m \u001b[38;5;28;01mreturn\u001b[39;00m \u001b[43mfunc\u001b[49m\u001b[43m(\u001b[49m\u001b[38;5;241;43m*\u001b[39;49m\u001b[43margs\u001b[49m\u001b[43m,\u001b[49m\u001b[43m \u001b[49m\u001b[38;5;241;43m*\u001b[39;49m\u001b[38;5;241;43m*\u001b[39;49m\u001b[43mkwargs\u001b[49m\u001b[43m)\u001b[49m\n",
      "File \u001b[0;32m~/miniconda3/envs/vspaint/lib/python3.9/site-packages/pandas/io/parsers/readers.py:950\u001b[0m, in \u001b[0;36mread_csv\u001b[0;34m(filepath_or_buffer, sep, delimiter, header, names, index_col, usecols, squeeze, prefix, mangle_dupe_cols, dtype, engine, converters, true_values, false_values, skipinitialspace, skiprows, skipfooter, nrows, na_values, keep_default_na, na_filter, verbose, skip_blank_lines, parse_dates, infer_datetime_format, keep_date_col, date_parser, dayfirst, cache_dates, iterator, chunksize, compression, thousands, decimal, lineterminator, quotechar, quoting, doublequote, escapechar, comment, encoding, encoding_errors, dialect, error_bad_lines, warn_bad_lines, on_bad_lines, delim_whitespace, low_memory, memory_map, float_precision, storage_options)\u001b[0m\n\u001b[1;32m    948\u001b[0m kwds\u001b[38;5;241m.\u001b[39mupdate(kwds_defaults)\n\u001b[0;32m--> 950\u001b[0m \u001b[38;5;28;01mreturn\u001b[39;00m \u001b[43m_read\u001b[49m\u001b[43m(\u001b[49m\u001b[43mfilepath_or_buffer\u001b[49m\u001b[43m,\u001b[49m\u001b[43m \u001b[49m\u001b[43mkwds\u001b[49m\u001b[43m)\u001b[49m\n",
      "File \u001b[0;32m~/miniconda3/envs/vspaint/lib/python3.9/site-packages/pandas/io/parsers/readers.py:611\u001b[0m, in \u001b[0;36m_read\u001b[0;34m(filepath_or_buffer, kwds)\u001b[0m\n\u001b[1;32m    610\u001b[0m \u001b[38;5;28;01mwith\u001b[39;00m parser:\n\u001b[0;32m--> 611\u001b[0m     \u001b[38;5;28;01mreturn\u001b[39;00m \u001b[43mparser\u001b[49m\u001b[38;5;241;43m.\u001b[39;49m\u001b[43mread\u001b[49m\u001b[43m(\u001b[49m\u001b[43mnrows\u001b[49m\u001b[43m)\u001b[49m\n",
      "File \u001b[0;32m~/miniconda3/envs/vspaint/lib/python3.9/site-packages/pandas/io/parsers/readers.py:1778\u001b[0m, in \u001b[0;36mTextFileReader.read\u001b[0;34m(self, nrows)\u001b[0m\n\u001b[1;32m   1772\u001b[0m \u001b[38;5;28;01mtry\u001b[39;00m:\n\u001b[1;32m   1773\u001b[0m     \u001b[38;5;66;03m# error: \"ParserBase\" has no attribute \"read\"\u001b[39;00m\n\u001b[1;32m   1774\u001b[0m     (\n\u001b[1;32m   1775\u001b[0m         index,\n\u001b[1;32m   1776\u001b[0m         columns,\n\u001b[1;32m   1777\u001b[0m         col_dict,\n\u001b[0;32m-> 1778\u001b[0m     ) \u001b[38;5;241m=\u001b[39m \u001b[38;5;28;43mself\u001b[39;49m\u001b[38;5;241;43m.\u001b[39;49m\u001b[43m_engine\u001b[49m\u001b[38;5;241;43m.\u001b[39;49m\u001b[43mread\u001b[49m\u001b[43m(\u001b[49m\u001b[43m  \u001b[49m\u001b[38;5;66;43;03m# type: ignore[attr-defined]\u001b[39;49;00m\n\u001b[1;32m   1779\u001b[0m \u001b[43m        \u001b[49m\u001b[43mnrows\u001b[49m\n\u001b[1;32m   1780\u001b[0m \u001b[43m    \u001b[49m\u001b[43m)\u001b[49m\n\u001b[1;32m   1781\u001b[0m \u001b[38;5;28;01mexcept\u001b[39;00m \u001b[38;5;167;01mException\u001b[39;00m:\n",
      "File \u001b[0;32m~/miniconda3/envs/vspaint/lib/python3.9/site-packages/pandas/io/parsers/c_parser_wrapper.py:230\u001b[0m, in \u001b[0;36mCParserWrapper.read\u001b[0;34m(self, nrows)\u001b[0m\n\u001b[1;32m    229\u001b[0m \u001b[38;5;28;01mif\u001b[39;00m \u001b[38;5;28mself\u001b[39m\u001b[38;5;241m.\u001b[39mlow_memory:\n\u001b[0;32m--> 230\u001b[0m     chunks \u001b[38;5;241m=\u001b[39m \u001b[38;5;28;43mself\u001b[39;49m\u001b[38;5;241;43m.\u001b[39;49m\u001b[43m_reader\u001b[49m\u001b[38;5;241;43m.\u001b[39;49m\u001b[43mread_low_memory\u001b[49m\u001b[43m(\u001b[49m\u001b[43mnrows\u001b[49m\u001b[43m)\u001b[49m\n\u001b[1;32m    231\u001b[0m     \u001b[38;5;66;03m# destructive to chunks\u001b[39;00m\n",
      "File \u001b[0;32m~/miniconda3/envs/vspaint/lib/python3.9/site-packages/pandas/_libs/parsers.pyx:808\u001b[0m, in \u001b[0;36mpandas._libs.parsers.TextReader.read_low_memory\u001b[0;34m()\u001b[0m\n",
      "File \u001b[0;32m~/miniconda3/envs/vspaint/lib/python3.9/site-packages/pandas/_libs/parsers.pyx:866\u001b[0m, in \u001b[0;36mpandas._libs.parsers.TextReader._read_rows\u001b[0;34m()\u001b[0m\n",
      "File \u001b[0;32m~/miniconda3/envs/vspaint/lib/python3.9/site-packages/pandas/_libs/parsers.pyx:852\u001b[0m, in \u001b[0;36mpandas._libs.parsers.TextReader._tokenize_rows\u001b[0;34m()\u001b[0m\n",
      "File \u001b[0;32m~/miniconda3/envs/vspaint/lib/python3.9/site-packages/pandas/_libs/parsers.pyx:1973\u001b[0m, in \u001b[0;36mpandas._libs.parsers.raise_parser_error\u001b[0;34m()\u001b[0m\n",
      "\u001b[0;31mParserError\u001b[0m: Error tokenizing data. C error: Calling read(nbytes) on source failed. Try engine='python'.",
      "\nDuring handling of the above exception, another exception occurred:\n",
      "\u001b[0;31mNameError\u001b[0m                                 Traceback (most recent call last)",
      "Cell \u001b[0;32mIn[18], line 1\u001b[0m\n\u001b[0;32m----> 1\u001b[0m fmp_feature_set \u001b[38;5;241m=\u001b[39m \u001b[43mreduced_features\u001b[49m\u001b[43m(\u001b[49m\u001b[43mfile_dataframe_filtered_2\u001b[49m\u001b[43m)\u001b[49m\n",
      "Cell \u001b[0;32mIn[17], line 23\u001b[0m, in \u001b[0;36mreduced_features\u001b[0;34m(file_dataframe_filtered)\u001b[0m\n\u001b[1;32m     19\u001b[0m         \u001b[38;5;28mprint\u001b[39m(\u001b[38;5;124mf\u001b[39m\u001b[38;5;124m\"\u001b[39m\u001b[38;5;124mINFO: \u001b[39m\u001b[38;5;132;01m{\u001b[39;00mplate_map_name\u001b[38;5;132;01m}\u001b[39;00m\u001b[38;5;124m has \u001b[39m\u001b[38;5;132;01m{\u001b[39;00mrow_count\u001b[38;5;132;01m}\u001b[39;00m\u001b[38;5;124m rows\u001b[39m\u001b[38;5;124m\"\u001b[39m)\n\u001b[1;32m     21\u001b[0m     \u001b[38;5;28;01mexcept\u001b[39;00m \u001b[38;5;167;01mException\u001b[39;00m \u001b[38;5;28;01mas\u001b[39;00m e:\n\u001b[0;32m---> 23\u001b[0m         \u001b[38;5;28mprint\u001b[39m(\u001b[38;5;124mf\u001b[39m\u001b[38;5;124m\"\u001b[39m\u001b[38;5;124mError reading file \u001b[39m\u001b[38;5;132;01m{\u001b[39;00m\u001b[43mfilename\u001b[49m\u001b[38;5;132;01m}\u001b[39;00m\u001b[38;5;124m: \u001b[39m\u001b[38;5;132;01m{\u001b[39;00me\u001b[38;5;132;01m}\u001b[39;00m\u001b[38;5;124m\"\u001b[39m)\n\u001b[1;32m     25\u001b[0m \u001b[38;5;28mprint\u001b[39m(\u001b[38;5;124m\"\u001b[39m\u001b[38;5;124mFeature reduction with correlation threshold 0.9 and Outlier threshold 100\u001b[39m\u001b[38;5;124m\"\u001b[39m)\n\u001b[1;32m     27\u001b[0m Data_aggregated \u001b[38;5;241m=\u001b[39m pd\u001b[38;5;241m.\u001b[39mconcat(Data)\n",
      "\u001b[0;31mNameError\u001b[0m: name 'filename' is not defined"
     ]
    }
   ],
   "source": [
    "fmp_feature_set = reduced_features(file_dataframe_filtered_2)\n"
   ]
  },
  {
   "cell_type": "code",
   "execution_count": null,
   "metadata": {},
   "outputs": [
    {
     "data": {
      "text/plain": [
       "434"
      ]
     },
     "execution_count": 32,
     "metadata": {},
     "output_type": "execute_result"
    }
   ],
   "source": [
    "len(fmp_feature_set)"
   ]
  },
  {
   "cell_type": "code",
   "execution_count": null,
   "metadata": {},
   "outputs": [],
   "source": [
    "test_file = file_dataframe_filtered_2['path'][0]"
   ]
  },
  {
   "cell_type": "code",
   "execution_count": null,
   "metadata": {},
   "outputs": [
    {
     "data": {
      "text/plain": [
       "'/home/schmiedc/FMP_Docs/Projects/ECBL_Project/QualityControl_analysis_revision/output/FMP/2024-07-21_C1102_R4/C1102_R4_mad_robustize.csv'"
      ]
     },
     "execution_count": 42,
     "metadata": {},
     "output_type": "execute_result"
    }
   ],
   "source": []
  },
  {
   "cell_type": "code",
   "execution_count": null,
   "metadata": {},
   "outputs": [],
   "source": [
    "path_norm_reduced_data = os.path.dirname(test_file)"
   ]
  },
  {
   "cell_type": "code",
   "execution_count": null,
   "metadata": {},
   "outputs": [
    {
     "data": {
      "text/plain": [
       "'/home/schmiedc/FMP_Docs/Projects/ECBL_Project/QualityControl_analysis_revision/output/FMP/2024-07-21_C1102_R4'"
      ]
     },
     "execution_count": 37,
     "metadata": {},
     "output_type": "execute_result"
    }
   ],
   "source": []
  },
  {
   "cell_type": "code",
   "execution_count": null,
   "metadata": {},
   "outputs": [
    {
     "ename": "NameError",
     "evalue": "name 'Path' is not defined",
     "output_type": "error",
     "traceback": [
      "\u001b[0;31m---------------------------------------------------------------------------\u001b[0m",
      "\u001b[0;31mNameError\u001b[0m                                 Traceback (most recent call last)",
      "Cell \u001b[0;32mIn[1], line 1\u001b[0m\n\u001b[0;32m----> 1\u001b[0m batch_plate_folder \u001b[38;5;241m=\u001b[39m \u001b[43mPath\u001b[49m(path_norm_reduced_data)\u001b[38;5;241m.\u001b[39mparts[\u001b[38;5;241m0\u001b[39m]\n\u001b[1;32m      2\u001b[0m batch_plate_folder\n",
      "\u001b[0;31mNameError\u001b[0m: name 'Path' is not defined"
     ]
    }
   ],
   "source": [
    "batch_plate_folder = Path(path_norm_reduced_data).parts[0]\n",
    "batch_plate_folder"
   ]
  },
  {
   "cell_type": "code",
   "execution_count": 43,
   "metadata": {},
   "outputs": [
    {
     "data": {
      "text/plain": [
       "'C1102_R4_mad_robustize'"
      ]
     },
     "execution_count": 43,
     "metadata": {},
     "output_type": "execute_result"
    }
   ],
   "source": [
    "plate_map_name = os.path.splitext(os.path.basename(test_file))[0]\n",
    "plate_map_name "
   ]
  },
  {
   "cell_type": "code",
   "execution_count": null,
   "metadata": {},
   "outputs": [
    {
     "name": "stdout",
     "output_type": "stream",
     "text": [
      "INFO: C1102_R4_mad_robustize has 384 rows\n",
      "INFO: C1102_R4_mad_robustize has 2977 features\n",
      "INFO: C1102_R4_mad_robustize has 434 features after feature reduction\n",
      "Folder '/home/schmiedc/FMP_Docs/Projects/ECBL_Project/QualityControl_analysis_revision/output/FMP_Filtered' created successfully!\n",
      "Folder '/' already exists.\n",
      "Error reading file C1102_R4_mad_robustize: [Errno 13] Permission denied: '/C1102_R4_mad_robustize_reduced-corr.csv'\n",
      "INFO: C1096_R2_mad_robustize has 384 rows\n",
      "INFO: C1096_R2_mad_robustize has 2977 features\n",
      "INFO: C1096_R2_mad_robustize has 434 features after feature reduction\n",
      "Folder '/home/schmiedc/FMP_Docs/Projects/ECBL_Project/QualityControl_analysis_revision/output/FMP_Filtered' already exists.\n",
      "Folder '/' already exists.\n",
      "Error reading file C1096_R2_mad_robustize: [Errno 13] Permission denied: '/C1096_R2_mad_robustize_reduced-corr.csv'\n",
      "INFO: C1108_R4_mad_robustize has 383 rows\n",
      "INFO: C1108_R4_mad_robustize has 2977 features\n",
      "INFO: C1108_R4_mad_robustize has 434 features after feature reduction\n",
      "Folder '/home/schmiedc/FMP_Docs/Projects/ECBL_Project/QualityControl_analysis_revision/output/FMP_Filtered' already exists.\n",
      "Folder '/' already exists.\n",
      "Error reading file C1108_R4_mad_robustize: [Errno 13] Permission denied: '/C1108_R4_mad_robustize_reduced-corr.csv'\n",
      "INFO: C1120_R1_mad_robustize has 384 rows\n",
      "INFO: C1120_R1_mad_robustize has 2977 features\n",
      "INFO: C1120_R1_mad_robustize has 434 features after feature reduction\n",
      "Folder '/home/schmiedc/FMP_Docs/Projects/ECBL_Project/QualityControl_analysis_revision/output/FMP_Filtered' already exists.\n",
      "Folder '/' already exists.\n",
      "Error reading file C1120_R1_mad_robustize: [Errno 13] Permission denied: '/C1120_R1_mad_robustize_reduced-corr.csv'\n",
      "INFO: C1109_R1_mad_robustize has 384 rows\n",
      "INFO: C1109_R1_mad_robustize has 2977 features\n",
      "INFO: C1109_R1_mad_robustize has 434 features after feature reduction\n",
      "Folder '/home/schmiedc/FMP_Docs/Projects/ECBL_Project/QualityControl_analysis_revision/output/FMP_Filtered' already exists.\n",
      "Folder '/' already exists.\n",
      "Error reading file C1109_R1_mad_robustize: [Errno 13] Permission denied: '/C1109_R1_mad_robustize_reduced-corr.csv'\n",
      "INFO: C1097_R4_mad_robustize has 384 rows\n",
      "INFO: C1097_R4_mad_robustize has 2977 features\n",
      "INFO: C1097_R4_mad_robustize has 434 features after feature reduction\n",
      "Folder '/home/schmiedc/FMP_Docs/Projects/ECBL_Project/QualityControl_analysis_revision/output/FMP_Filtered' already exists.\n",
      "Folder '/' already exists.\n",
      "Error reading file C1097_R4_mad_robustize: [Errno 13] Permission denied: '/C1097_R4_mad_robustize_reduced-corr.csv'\n",
      "INFO: C1119_R4_mad_robustize has 384 rows\n",
      "INFO: C1119_R4_mad_robustize has 2977 features\n",
      "INFO: C1119_R4_mad_robustize has 434 features after feature reduction\n",
      "Folder '/home/schmiedc/FMP_Docs/Projects/ECBL_Project/QualityControl_analysis_revision/output/FMP_Filtered' already exists.\n",
      "Folder '/' already exists.\n",
      "Error reading file C1119_R4_mad_robustize: [Errno 13] Permission denied: '/C1119_R4_mad_robustize_reduced-corr.csv'\n",
      "INFO: C1103_R2_mad_robustize has 384 rows\n",
      "INFO: C1103_R2_mad_robustize has 2977 features\n",
      "INFO: C1103_R2_mad_robustize has 434 features after feature reduction\n",
      "Folder '/home/schmiedc/FMP_Docs/Projects/ECBL_Project/QualityControl_analysis_revision/output/FMP_Filtered' already exists.\n",
      "Folder '/' already exists.\n",
      "Error reading file C1103_R2_mad_robustize: [Errno 13] Permission denied: '/C1103_R2_mad_robustize_reduced-corr.csv'\n",
      "INFO: C1120_R2_mad_robustize has 384 rows\n",
      "INFO: C1120_R2_mad_robustize has 2977 features\n",
      "INFO: C1120_R2_mad_robustize has 434 features after feature reduction\n",
      "Folder '/home/schmiedc/FMP_Docs/Projects/ECBL_Project/QualityControl_analysis_revision/output/FMP_Filtered' already exists.\n",
      "Folder '/' already exists.\n",
      "Error reading file C1120_R2_mad_robustize: [Errno 13] Permission denied: '/C1120_R2_mad_robustize_reduced-corr.csv'\n",
      "INFO: C1112_R3_mad_robustize has 384 rows\n",
      "INFO: C1112_R3_mad_robustize has 2977 features\n",
      "INFO: C1112_R3_mad_robustize has 434 features after feature reduction\n",
      "Folder '/home/schmiedc/FMP_Docs/Projects/ECBL_Project/QualityControl_analysis_revision/output/FMP_Filtered' already exists.\n",
      "Folder '/' already exists.\n",
      "Error reading file C1112_R3_mad_robustize: [Errno 13] Permission denied: '/C1112_R3_mad_robustize_reduced-corr.csv'\n",
      "INFO: C1100_R2_mad_robustize has 384 rows\n",
      "INFO: C1100_R2_mad_robustize has 2977 features\n",
      "INFO: C1100_R2_mad_robustize has 434 features after feature reduction\n",
      "Folder '/home/schmiedc/FMP_Docs/Projects/ECBL_Project/QualityControl_analysis_revision/output/FMP_Filtered' already exists.\n",
      "Folder '/' already exists.\n",
      "Error reading file C1100_R2_mad_robustize: [Errno 13] Permission denied: '/C1100_R2_mad_robustize_reduced-corr.csv'\n",
      "INFO: C1102_R2_mad_robustize has 384 rows\n",
      "INFO: C1102_R2_mad_robustize has 2977 features\n",
      "INFO: C1102_R2_mad_robustize has 434 features after feature reduction\n",
      "Folder '/home/schmiedc/FMP_Docs/Projects/ECBL_Project/QualityControl_analysis_revision/output/FMP_Filtered' already exists.\n",
      "Folder '/' already exists.\n",
      "Error reading file C1102_R2_mad_robustize: [Errno 13] Permission denied: '/C1102_R2_mad_robustize_reduced-corr.csv'\n",
      "INFO: C1116_R2_mad_robustize has 384 rows\n",
      "INFO: C1116_R2_mad_robustize has 2977 features\n",
      "INFO: C1116_R2_mad_robustize has 434 features after feature reduction\n",
      "Folder '/home/schmiedc/FMP_Docs/Projects/ECBL_Project/QualityControl_analysis_revision/output/FMP_Filtered' already exists.\n",
      "Folder '/' already exists.\n",
      "Error reading file C1116_R2_mad_robustize: [Errno 13] Permission denied: '/C1116_R2_mad_robustize_reduced-corr.csv'\n",
      "INFO: C1112_R2_mad_robustize has 383 rows\n",
      "INFO: C1112_R2_mad_robustize has 2977 features\n",
      "INFO: C1112_R2_mad_robustize has 434 features after feature reduction\n",
      "Folder '/home/schmiedc/FMP_Docs/Projects/ECBL_Project/QualityControl_analysis_revision/output/FMP_Filtered' already exists.\n",
      "Folder '/' already exists.\n",
      "Error reading file C1112_R2_mad_robustize: [Errno 13] Permission denied: '/C1112_R2_mad_robustize_reduced-corr.csv'\n",
      "INFO: C1117_R1_mad_robustize has 384 rows\n",
      "INFO: C1117_R1_mad_robustize has 2977 features\n",
      "INFO: C1117_R1_mad_robustize has 434 features after feature reduction\n",
      "Folder '/home/schmiedc/FMP_Docs/Projects/ECBL_Project/QualityControl_analysis_revision/output/FMP_Filtered' already exists.\n",
      "Folder '/' already exists.\n",
      "Error reading file C1117_R1_mad_robustize: [Errno 13] Permission denied: '/C1117_R1_mad_robustize_reduced-corr.csv'\n",
      "INFO: C1123_R2_mad_robustize has 354 rows\n",
      "INFO: C1123_R2_mad_robustize has 2977 features\n",
      "INFO: C1123_R2_mad_robustize has 434 features after feature reduction\n",
      "Folder '/home/schmiedc/FMP_Docs/Projects/ECBL_Project/QualityControl_analysis_revision/output/FMP_Filtered' already exists.\n",
      "Folder '/' already exists.\n",
      "Error reading file C1123_R2_mad_robustize: [Errno 13] Permission denied: '/C1123_R2_mad_robustize_reduced-corr.csv'\n",
      "INFO: C1120_R3_mad_robustize has 383 rows\n",
      "INFO: C1120_R3_mad_robustize has 2977 features\n",
      "INFO: C1120_R3_mad_robustize has 434 features after feature reduction\n",
      "Folder '/home/schmiedc/FMP_Docs/Projects/ECBL_Project/QualityControl_analysis_revision/output/FMP_Filtered' already exists.\n",
      "Folder '/' already exists.\n",
      "Error reading file C1120_R3_mad_robustize: [Errno 13] Permission denied: '/C1120_R3_mad_robustize_reduced-corr.csv'\n",
      "INFO: C1099_R3_mad_robustize has 384 rows\n",
      "INFO: C1099_R3_mad_robustize has 2977 features\n",
      "INFO: C1099_R3_mad_robustize has 434 features after feature reduction\n",
      "Folder '/home/schmiedc/FMP_Docs/Projects/ECBL_Project/QualityControl_analysis_revision/output/FMP_Filtered' already exists.\n",
      "Folder '/' already exists.\n",
      "Error reading file C1099_R3_mad_robustize: [Errno 13] Permission denied: '/C1099_R3_mad_robustize_reduced-corr.csv'\n",
      "Error reading file C1099_R2_mad_robustize: Error tokenizing data. C error: Calling read(nbytes) on source failed. Try engine='python'.\n",
      "INFO: C1110_R2_mad_robustize has 384 rows\n",
      "INFO: C1110_R2_mad_robustize has 2977 features\n",
      "INFO: C1110_R2_mad_robustize has 434 features after feature reduction\n",
      "Folder '/home/schmiedc/FMP_Docs/Projects/ECBL_Project/QualityControl_analysis_revision/output/FMP_Filtered' already exists.\n",
      "Folder '/' already exists.\n",
      "Error reading file C1110_R2_mad_robustize: [Errno 13] Permission denied: '/C1110_R2_mad_robustize_reduced-corr.csv'\n",
      "INFO: C1117_R4_mad_robustize has 384 rows\n",
      "INFO: C1117_R4_mad_robustize has 2977 features\n",
      "INFO: C1117_R4_mad_robustize has 434 features after feature reduction\n",
      "Folder '/home/schmiedc/FMP_Docs/Projects/ECBL_Project/QualityControl_analysis_revision/output/FMP_Filtered' already exists.\n",
      "Folder '/' already exists.\n",
      "Error reading file C1117_R4_mad_robustize: [Errno 13] Permission denied: '/C1117_R4_mad_robustize_reduced-corr.csv'\n",
      "INFO: C1103_R4_mad_robustize has 384 rows\n",
      "INFO: C1103_R4_mad_robustize has 2977 features\n",
      "INFO: C1103_R4_mad_robustize has 434 features after feature reduction\n",
      "Folder '/home/schmiedc/FMP_Docs/Projects/ECBL_Project/QualityControl_analysis_revision/output/FMP_Filtered' already exists.\n",
      "Folder '/' already exists.\n",
      "Error reading file C1103_R4_mad_robustize: [Errno 13] Permission denied: '/C1103_R4_mad_robustize_reduced-corr.csv'\n",
      "INFO: C1099_R1_mad_robustize has 378 rows\n",
      "INFO: C1099_R1_mad_robustize has 2977 features\n",
      "INFO: C1099_R1_mad_robustize has 434 features after feature reduction\n",
      "Folder '/home/schmiedc/FMP_Docs/Projects/ECBL_Project/QualityControl_analysis_revision/output/FMP_Filtered' already exists.\n",
      "Folder '/' already exists.\n",
      "Error reading file C1099_R1_mad_robustize: [Errno 13] Permission denied: '/C1099_R1_mad_robustize_reduced-corr.csv'\n",
      "INFO: C1123_R3_mad_robustize has 380 rows\n",
      "INFO: C1123_R3_mad_robustize has 2977 features\n",
      "INFO: C1123_R3_mad_robustize has 434 features after feature reduction\n",
      "Folder '/home/schmiedc/FMP_Docs/Projects/ECBL_Project/QualityControl_analysis_revision/output/FMP_Filtered' already exists.\n",
      "Folder '/' already exists.\n",
      "Error reading file C1123_R3_mad_robustize: [Errno 13] Permission denied: '/C1123_R3_mad_robustize_reduced-corr.csv'\n",
      "INFO: C1115_R4_mad_robustize has 384 rows\n",
      "INFO: C1115_R4_mad_robustize has 2977 features\n",
      "INFO: C1115_R4_mad_robustize has 434 features after feature reduction\n",
      "Folder '/home/schmiedc/FMP_Docs/Projects/ECBL_Project/QualityControl_analysis_revision/output/FMP_Filtered' already exists.\n",
      "Folder '/' already exists.\n",
      "Error reading file C1115_R4_mad_robustize: [Errno 13] Permission denied: '/C1115_R4_mad_robustize_reduced-corr.csv'\n",
      "INFO: C1111_R2_mad_robustize has 384 rows\n",
      "INFO: C1111_R2_mad_robustize has 2977 features\n",
      "INFO: C1111_R2_mad_robustize has 434 features after feature reduction\n",
      "Folder '/home/schmiedc/FMP_Docs/Projects/ECBL_Project/QualityControl_analysis_revision/output/FMP_Filtered' already exists.\n",
      "Folder '/' already exists.\n",
      "Error reading file C1111_R2_mad_robustize: [Errno 13] Permission denied: '/C1111_R2_mad_robustize_reduced-corr.csv'\n",
      "INFO: C1108_R1_mad_robustize has 384 rows\n",
      "INFO: C1108_R1_mad_robustize has 2977 features\n",
      "INFO: C1108_R1_mad_robustize has 434 features after feature reduction\n",
      "Folder '/home/schmiedc/FMP_Docs/Projects/ECBL_Project/QualityControl_analysis_revision/output/FMP_Filtered' already exists.\n",
      "Folder '/' already exists.\n",
      "Error reading file C1108_R1_mad_robustize: [Errno 13] Permission denied: '/C1108_R1_mad_robustize_reduced-corr.csv'\n",
      "INFO: C1117_R3_mad_robustize has 382 rows\n",
      "INFO: C1117_R3_mad_robustize has 2977 features\n",
      "INFO: C1117_R3_mad_robustize has 434 features after feature reduction\n",
      "Folder '/home/schmiedc/FMP_Docs/Projects/ECBL_Project/QualityControl_analysis_revision/output/FMP_Filtered' already exists.\n",
      "Folder '/' already exists.\n",
      "Error reading file C1117_R3_mad_robustize: [Errno 13] Permission denied: '/C1117_R3_mad_robustize_reduced-corr.csv'\n",
      "INFO: C1097_R3_mad_robustize has 384 rows\n",
      "INFO: C1097_R3_mad_robustize has 2977 features\n",
      "INFO: C1097_R3_mad_robustize has 434 features after feature reduction\n",
      "Folder '/home/schmiedc/FMP_Docs/Projects/ECBL_Project/QualityControl_analysis_revision/output/FMP_Filtered' already exists.\n",
      "Folder '/' already exists.\n",
      "Error reading file C1097_R3_mad_robustize: [Errno 13] Permission denied: '/C1097_R3_mad_robustize_reduced-corr.csv'\n",
      "INFO: C1122_R4_mad_robustize has 384 rows\n",
      "INFO: C1122_R4_mad_robustize has 2977 features\n",
      "INFO: C1122_R4_mad_robustize has 434 features after feature reduction\n",
      "Folder '/home/schmiedc/FMP_Docs/Projects/ECBL_Project/QualityControl_analysis_revision/output/FMP_Filtered' already exists.\n",
      "Folder '/' already exists.\n",
      "Error reading file C1122_R4_mad_robustize: [Errno 13] Permission denied: '/C1122_R4_mad_robustize_reduced-corr.csv'\n",
      "INFO: C1114_R4_mad_robustize has 384 rows\n",
      "INFO: C1114_R4_mad_robustize has 2977 features\n",
      "INFO: C1114_R4_mad_robustize has 434 features after feature reduction\n",
      "Folder '/home/schmiedc/FMP_Docs/Projects/ECBL_Project/QualityControl_analysis_revision/output/FMP_Filtered' already exists.\n",
      "Folder '/' already exists.\n",
      "Error reading file C1114_R4_mad_robustize: [Errno 13] Permission denied: '/C1114_R4_mad_robustize_reduced-corr.csv'\n",
      "INFO: C1119_R1_mad_robustize has 384 rows\n",
      "INFO: C1119_R1_mad_robustize has 2977 features\n",
      "INFO: C1119_R1_mad_robustize has 434 features after feature reduction\n",
      "Folder '/home/schmiedc/FMP_Docs/Projects/ECBL_Project/QualityControl_analysis_revision/output/FMP_Filtered' already exists.\n",
      "Folder '/' already exists.\n",
      "Error reading file C1119_R1_mad_robustize: [Errno 13] Permission denied: '/C1119_R1_mad_robustize_reduced-corr.csv'\n",
      "INFO: C1100_R3_mad_robustize has 384 rows\n",
      "INFO: C1100_R3_mad_robustize has 2977 features\n",
      "INFO: C1100_R3_mad_robustize has 434 features after feature reduction\n",
      "Folder '/home/schmiedc/FMP_Docs/Projects/ECBL_Project/QualityControl_analysis_revision/output/FMP_Filtered' already exists.\n",
      "Folder '/' already exists.\n",
      "Error reading file C1100_R3_mad_robustize: [Errno 13] Permission denied: '/C1100_R3_mad_robustize_reduced-corr.csv'\n",
      "INFO: C1105_R1_mad_robustize has 384 rows\n",
      "INFO: C1105_R1_mad_robustize has 2977 features\n",
      "INFO: C1105_R1_mad_robustize has 434 features after feature reduction\n",
      "Folder '/home/schmiedc/FMP_Docs/Projects/ECBL_Project/QualityControl_analysis_revision/output/FMP_Filtered' already exists.\n",
      "Folder '/' already exists.\n",
      "Error reading file C1105_R1_mad_robustize: [Errno 13] Permission denied: '/C1105_R1_mad_robustize_reduced-corr.csv'\n",
      "INFO: C1118_R2_mad_robustize has 384 rows\n",
      "INFO: C1118_R2_mad_robustize has 2977 features\n",
      "INFO: C1118_R2_mad_robustize has 434 features after feature reduction\n",
      "Folder '/home/schmiedc/FMP_Docs/Projects/ECBL_Project/QualityControl_analysis_revision/output/FMP_Filtered' already exists.\n",
      "Folder '/' already exists.\n",
      "Error reading file C1118_R2_mad_robustize: [Errno 13] Permission denied: '/C1118_R2_mad_robustize_reduced-corr.csv'\n",
      "INFO: C1108_R2_mad_robustize has 384 rows\n",
      "INFO: C1108_R2_mad_robustize has 2977 features\n",
      "INFO: C1108_R2_mad_robustize has 434 features after feature reduction\n",
      "Folder '/home/schmiedc/FMP_Docs/Projects/ECBL_Project/QualityControl_analysis_revision/output/FMP_Filtered' already exists.\n",
      "Folder '/' already exists.\n",
      "Error reading file C1108_R2_mad_robustize: [Errno 13] Permission denied: '/C1108_R2_mad_robustize_reduced-corr.csv'\n",
      "INFO: C1103_R1_mad_robustize has 382 rows\n",
      "INFO: C1103_R1_mad_robustize has 2977 features\n",
      "INFO: C1103_R1_mad_robustize has 434 features after feature reduction\n",
      "Folder '/home/schmiedc/FMP_Docs/Projects/ECBL_Project/QualityControl_analysis_revision/output/FMP_Filtered' already exists.\n",
      "Folder '/' already exists.\n",
      "Error reading file C1103_R1_mad_robustize: [Errno 13] Permission denied: '/C1103_R1_mad_robustize_reduced-corr.csv'\n",
      "INFO: C1109_R2_mad_robustize has 384 rows\n",
      "INFO: C1109_R2_mad_robustize has 2977 features\n",
      "INFO: C1109_R2_mad_robustize has 434 features after feature reduction\n",
      "Folder '/home/schmiedc/FMP_Docs/Projects/ECBL_Project/QualityControl_analysis_revision/output/FMP_Filtered' already exists.\n",
      "Folder '/' already exists.\n",
      "Error reading file C1109_R2_mad_robustize: [Errno 13] Permission denied: '/C1109_R2_mad_robustize_reduced-corr.csv'\n",
      "INFO: C1102_R1_mad_robustize has 378 rows\n",
      "INFO: C1102_R1_mad_robustize has 2977 features\n",
      "INFO: C1102_R1_mad_robustize has 434 features after feature reduction\n",
      "Folder '/home/schmiedc/FMP_Docs/Projects/ECBL_Project/QualityControl_analysis_revision/output/FMP_Filtered' already exists.\n",
      "Folder '/' already exists.\n",
      "Error reading file C1102_R1_mad_robustize: [Errno 13] Permission denied: '/C1102_R1_mad_robustize_reduced-corr.csv'\n",
      "INFO: C1115_R1_mad_robustize has 384 rows\n",
      "INFO: C1115_R1_mad_robustize has 2977 features\n",
      "INFO: C1115_R1_mad_robustize has 434 features after feature reduction\n",
      "Folder '/home/schmiedc/FMP_Docs/Projects/ECBL_Project/QualityControl_analysis_revision/output/FMP_Filtered' already exists.\n",
      "Folder '/' already exists.\n",
      "Error reading file C1115_R1_mad_robustize: [Errno 13] Permission denied: '/C1115_R1_mad_robustize_reduced-corr.csv'\n"
     ]
    }
   ],
   "source": [
    "dataframes_normalized_reduced_dict = {}\n",
    "file_list = file_dataframe_filtered_2['path']\n",
    "\n",
    "for file in file_list:\n",
    "    \n",
    "    plate_map_name = os.path.splitext(os.path.basename(file))[0]\n",
    "    \n",
    "    try:\n",
    "        \n",
    "        dataframe = pd.read_csv(file)\n",
    "        row_count = dataframe.shape[0]\n",
    "        \n",
    "        print(f\"INFO: {plate_map_name} has {row_count} rows\")\n",
    "\n",
    "        features = CBE.get_feature_vector(dataframe)\n",
    "        metadata = set(dataframe.columns) - set(features)\n",
    "\n",
    "        number_features = len(features)\n",
    "\n",
    "        print(f\"INFO: {plate_map_name} has {number_features} features\")\n",
    "\n",
    "        reduced_feature_set = set(fmp_feature_set)\n",
    "\n",
    "        features_to_remove = [item for item in features if item not in reduced_feature_set]\n",
    "    \n",
    "        dataframe_reduced_features = dataframe.drop(columns = features_to_remove)\n",
    "\n",
    "        reduced_features = CBE.get_feature_vector(dataframe_reduced_features)\n",
    "\n",
    "        number_reduced_features = len(reduced_features)\n",
    "\n",
    "        print(f\"INFO: {plate_map_name} has {number_reduced_features} features after feature reduction\")\n",
    "    \n",
    "        filename_norm_reduced_data = plate_map_name + \"_reduced-corr.csv\"\n",
    "    \n",
    "        new_source_path = os.path.join(input_path, 'FMP_Filtered')\n",
    "\n",
    "        try:\n",
    "            os.makedirs(new_source_path)\n",
    "            print(f\"Folder '{new_source_path}' created successfully!\")\n",
    "\n",
    "        except FileExistsError:\n",
    "            print(f\"Folder '{new_source_path}' already exists.\")\n",
    "\n",
    "\n",
    "        \n",
    "\n",
    "        new_plate_map_name_path = os.path.join(new_source_path, batch_plate_folder)\n",
    "\n",
    "        try:\n",
    "            os.makedirs(new_plate_map_name_path)\n",
    "            print(f\"Folder '{new_plate_map_name_path}' created successfully!\")\n",
    "\n",
    "        except FileExistsError:\n",
    "            print(f\"Folder '{new_plate_map_name_path}' already exists.\")\n",
    "\n",
    "        file_path_norm_reduced_data = os.path.join(new_plate_map_name_path, filename_norm_reduced_data)\n",
    "    \n",
    "        dataframe_reduced_features.to_csv(file_path_norm_reduced_data, index=False)\n",
    "    \n",
    "        print(f\"INFO: Saved {filename_norm_reduced_data}\")\n",
    "\n",
    "        dict_key = dataframe_reduced_features['Metadata_staining_date'][0].astype(str) + \"_\" + dataframe_reduced_features['Metadata_source'][0] + \"_\" + dataframe_reduced_features['Metadata_plate_map_name'][0]\n",
    "\n",
    "        dataframes_normalized_reduced_dict[dict_key] = dataframe_reduced_features\n",
    "        \n",
    "    except Exception as e:\n",
    "        \n",
    "        print(f\"Error reading file {plate_map_name}: {e}\") "
   ]
  },
  {
   "cell_type": "code",
   "execution_count": null,
   "metadata": {},
   "outputs": [],
   "source": []
  }
 ],
 "metadata": {
  "kernelspec": {
   "display_name": "vspaint",
   "language": "python",
   "name": "python3"
  },
  "language_info": {
   "codemirror_mode": {
    "name": "ipython",
    "version": 3
   },
   "file_extension": ".py",
   "mimetype": "text/x-python",
   "name": "python",
   "nbconvert_exporter": "python",
   "pygments_lexer": "ipython3",
   "version": "3.9.16"
  }
 },
 "nbformat": 4,
 "nbformat_minor": 2
}
