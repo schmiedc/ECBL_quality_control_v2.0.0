{
 "cells": [
  {
   "cell_type": "code",
   "execution_count": null,
   "metadata": {},
   "outputs": [],
   "source": [
    "import time\n",
    "from datetime import date\n",
    "import pandas as pd\n",
    "import os\n",
    "import glob\n",
    "import pycytominer\n",
    "import sys\n",
    "import CBE_utils as CBE\n",
    "import matplotlib.pyplot as plt\n",
    "import seaborn as sns\n",
    "import numpy as np\n",
    "import re\n",
    "import gc\n",
    "from pathlib import Path"
   ]
  },
  {
   "cell_type": "code",
   "execution_count": null,
   "metadata": {},
   "outputs": [],
   "source": [
    "import importlib\n",
    "importlib.reload(CBE)"
   ]
  },
  {
   "cell_type": "code",
   "execution_count": null,
   "metadata": {},
   "outputs": [],
   "source": [
    "input_path = \"/home/schmiedc/FMP_Docs/Projects/ECBL_Project/QualityControl_analysis_revision/output/\"\n",
    "\n",
    "annotation_dir = \"/home/schmiedc/FMP_Docs/Projects/ECBL_Project/QualityControl_analysis_revision/annotation/\""
   ]
  },
  {
   "cell_type": "markdown",
   "metadata": {},
   "source": [
    "# Test\n",
    "input_path = \"/home/schmiedc/FMP_Docs/Projects/ECBL_Project/QualityControl_analysis_revision/test_output/\"\n",
    "\n",
    "annotation_dir = \"/home/schmiedc/FMP_Docs/Projects/ECBL_Project/QualityControl_analysis_revision/test_annotation/\""
   ]
  },
  {
   "cell_type": "code",
   "execution_count": null,
   "metadata": {},
   "outputs": [],
   "source": [
    "# get folder list \n",
    "# load for each site the normalized files\n",
    "# reduce the features selecting the correct feature list\n",
    "folders = [name for name in os.listdir(input_path) if os.path.isdir(os.path.join(input_path, name))]"
   ]
  },
  {
   "cell_type": "code",
   "execution_count": null,
   "metadata": {},
   "outputs": [],
   "source": [
    "# TODO: Get only FMP Data\n",
    "# TODO: Filter out problematic batches\n",
    "# FMP Problematic plates: all replicates of plates C1084-C1093\n",
    "# Also problematic: 240710, 240717, 240718\n"
   ]
  },
  {
   "cell_type": "code",
   "execution_count": null,
   "metadata": {},
   "outputs": [],
   "source": [
    "def extract_plate_info(path): \n",
    "     \n",
    "    match = re.search(r'(\\d{4}-\\d{2}-\\d{2}_[A-Za-z0-9]+_R\\d)', path)\n",
    "    full_id = match.group(1) if match else None\n",
    "\n",
    "    # Extract the date string (e.g., 2024-06-05)\n",
    "    date_match = re.search(r'(\\d{4}-\\d{2}-\\d{2})', full_id) if full_id else None\n",
    "    batch = date_match.group(1) if date_match else None\n",
    "\n",
    "    id_match  = re.search(r'_([A-Za-z0-9]+)_R(\\d)', full_id) if full_id else None\n",
    "    plate = id_match.group(1) if id_match else None\n",
    "    replicate = id_match.group(2) if id_match else None\n",
    "\n",
    "    return {\n",
    "        \"path\": path,\n",
    "        \"full_id\": full_id,\n",
    "        \"batch\": batch,\n",
    "        \"plate\": plate,\n",
    "        \"replicate\": f\"R{replicate}\" if replicate else None\n",
    "    }"
   ]
  },
  {
   "cell_type": "code",
   "execution_count": null,
   "metadata": {},
   "outputs": [],
   "source": [
    "site_specific_path = os.path.join(input_path, 'FMP')\n",
    "\n",
    "# loads mad_robustize normalized data\n",
    "pattern = \"[A-Z][0-9][0-9][0-9][0-9]_R[1-4]_mad_robustize.csv\"\n",
    "file_list = glob.glob(site_specific_path + os.sep + '*' + os.sep + pattern, recursive=True)\n",
    "\n",
    "files = [extract_plate_info(path) for path in file_list]\n",
    "\n",
    "file_dataframe = pd.DataFrame(files)\n",
    "\n",
    "file_dataframe['plate_replicate'] = file_dataframe['plate'] + '_' + file_dataframe['replicate']"
   ]
  },
  {
   "cell_type": "code",
   "execution_count": null,
   "metadata": {},
   "outputs": [],
   "source": [
    "# Remove batches FMP\n",
    "remove_batch = ['2024-07-10', \n",
    "                '2024-07-17', \n",
    "                '2024-07-18']\n",
    "\n",
    "remove_plate = ['C1084', \n",
    "                'C1085', \n",
    "                'C1086',\n",
    "                'C1087', \n",
    "                'C1088',\n",
    "                'C1089',\n",
    "                'C1090', \n",
    "                'C1091', \n",
    "                'C1092',\n",
    "                'C1093']\n",
    "\n",
    "remove_plate_replicate = ['C1119_R3',\n",
    "                          'C1123_R2']\n",
    "    "
   ]
  },
  {
   "cell_type": "code",
   "execution_count": null,
   "metadata": {},
   "outputs": [],
   "source": [
    "number_processed = len(file_dataframe)\n",
    "print(number_processed, ' out of 300 plates processed') \n",
    "precent_processed = (number_processed / 300 ) * 100\n",
    "print(int(precent_processed), '% processed')\n",
    "\n",
    "file_dataframe_filtered_1 = file_dataframe[~file_dataframe[\"batch\"].isin(remove_batch)]\n",
    "file_dataframe_filtered_2 = file_dataframe_filtered_1[~file_dataframe_filtered_1 [\"plate\"].isin(remove_plate)]\n",
    "file_dataframe_filtered_3 = file_dataframe_filtered_2[~file_dataframe_filtered_2['plate_replicate'].isin(remove_plate_replicate)]\n",
    "\n",
    "rejected_plates = number_processed - len(file_dataframe_filtered_3)\n",
    "print(rejected_plates, ' plates rejected')\n",
    "\n",
    "percent_rejected = (rejected_plates / number_processed) * 100\n",
    "print(int(percent_rejected), '% plates rejected')"
   ]
  },
  {
   "cell_type": "markdown",
   "metadata": {},
   "source": [
    "# Rejected IMTM"
   ]
  },
  {
   "cell_type": "code",
   "execution_count": null,
   "metadata": {},
   "outputs": [],
   "source": [
    "site_specific_path = os.path.join(input_path, 'IMTM')\n",
    "\n",
    "# loads mad_robustize normalized data\n",
    "pattern = \"[A-Z][0-9][0-9][0-9][0-9]_R[1-4]_mad_robustize.csv\"\n",
    "file_list = glob.glob(site_specific_path + os.sep + '*' + os.sep + pattern, recursive=True)\n",
    "\n",
    "files = [extract_plate_info(path) for path in file_list]\n",
    "\n",
    "file_dataframe = pd.DataFrame(files)\n",
    "\n",
    "file_dataframe['plate_replicate'] = file_dataframe['plate'] + '_' + file_dataframe['replicate']"
   ]
  },
  {
   "cell_type": "code",
   "execution_count": null,
   "metadata": {},
   "outputs": [],
   "source": [
    "# Remove batches FMP\n",
    "remove_batch = ['2024-05-30', \n",
    "                '2024-06-03', \n",
    "                '2024-06-05', \n",
    "                '2024-06-06',\n",
    "                '2024-06-07',\n",
    "                '2024-06-10',\n",
    "                '2024-06-11',\n",
    "                '2024-06-17',\n",
    "                '2024-06-19',\n",
    "                '2024-06-20',\n",
    "                '2024-06-21',\n",
    "                '2024-06-24',\n",
    "                '2024-06-25',\n",
    "                '2024-06-27',\n",
    "                '2024-07-01',\n",
    "                '2024-11-05']\n",
    "\n",
    "remove_plate = []\n",
    "\n",
    "remove_plate_replicate = ['C1252_R2']"
   ]
  },
  {
   "cell_type": "code",
   "execution_count": null,
   "metadata": {},
   "outputs": [],
   "source": [
    "number_processed = len(file_dataframe)\n",
    "print(number_processed, ' out of 300 plates processed') \n",
    "precent_processed = (number_processed / 300 ) * 100\n",
    "print(int(precent_processed), '% processed')\n",
    "\n",
    "file_dataframe_filtered_1 = file_dataframe[~file_dataframe[\"batch\"].isin(remove_batch)]\n",
    "file_dataframe_filtered_2 = file_dataframe_filtered_1[~file_dataframe_filtered_1[\"plate\"].isin(remove_plate)]\n",
    "file_dataframe_filtered_3 = file_dataframe_filtered_2[~file_dataframe_filtered_2['plate_replicate'].isin(remove_plate_replicate)]\n",
    "\n",
    "rejected_plates = number_processed - len(file_dataframe_filtered_3)\n",
    "rejected_corr = rejected_plates - len(remove_batch) + 1\n",
    "print(rejected_corr, ' plates rejected')\n",
    "\n",
    "percent_rejected = rejected_corr / number_processed * 100\n",
    "print(int(percent_rejected), '% plates rejected')"
   ]
  },
  {
   "cell_type": "markdown",
   "metadata": {},
   "source": [
    "# Reject USC"
   ]
  },
  {
   "cell_type": "code",
   "execution_count": null,
   "metadata": {},
   "outputs": [],
   "source": [
    "site_specific_path = os.path.join(input_path, 'USC')\n",
    "\n",
    "# loads mad_robustize normalized data\n",
    "pattern = \"[A-Z][0-9][0-9][0-9][0-9]_R[1-4]_mad_robustize.csv\"\n",
    "file_list = glob.glob(site_specific_path + os.sep + '*' + os.sep + pattern, recursive=True)\n",
    "\n",
    "files = [extract_plate_info(path) for path in file_list]\n",
    "\n",
    "file_dataframe = pd.DataFrame(files)\n",
    "\n",
    "file_dataframe['plate_replicate'] = file_dataframe['plate'] + '_' + file_dataframe['replicate']"
   ]
  },
  {
   "cell_type": "code",
   "execution_count": null,
   "metadata": {},
   "outputs": [],
   "source": [
    "# Remove batches FMP\n",
    "remove_batch = ['2024-06-14',\n",
    "                '2024-06-15',\n",
    "                '2024-06-17',\n",
    "                '2024-06-19',\n",
    "                '2024-06-21']\n",
    "\n",
    "remove_plate = []\n",
    "\n",
    "remove_plate_replicate = []"
   ]
  },
  {
   "cell_type": "code",
   "execution_count": null,
   "metadata": {},
   "outputs": [],
   "source": [
    "number_processed = len(file_dataframe)\n",
    "print(number_processed, ' out of 300 plates processed') \n",
    "precent_processed = (number_processed / 300 ) * 100\n",
    "print(int(precent_processed), '% processed')\n",
    "\n",
    "file_dataframe_filtered_1 = file_dataframe[~file_dataframe[\"batch\"].isin(remove_batch)]\n",
    "file_dataframe_filtered_2 = file_dataframe_filtered_1[~file_dataframe_filtered_1[\"plate\"].isin(remove_plate)]\n",
    "file_dataframe_filtered_3 = file_dataframe_filtered_2[~file_dataframe_filtered_2['plate_replicate'].isin(remove_plate_replicate)]\n",
    "\n",
    "rejected_plates = number_processed - len(file_dataframe_filtered_3)\n",
    "rejected_corr = rejected_plates - len(remove_batch) + 1\n",
    "print(rejected_corr, ' plates rejected')\n",
    "\n",
    "percent_rejected = rejected_corr / number_processed * 100\n",
    "print(int(percent_rejected), '% plates rejected')"
   ]
  },
  {
   "cell_type": "markdown",
   "metadata": {},
   "source": [
    "# Reject MEDINA"
   ]
  },
  {
   "cell_type": "code",
   "execution_count": null,
   "metadata": {},
   "outputs": [],
   "source": [
    "site_specific_path = os.path.join(input_path, 'MEDINA')\n",
    "\n",
    "# loads mad_robustize normalized data\n",
    "pattern = \"[A-Z][0-9][0-9][0-9][0-9]_R[1-4]_mad_robustize.csv\"\n",
    "file_list = glob.glob(site_specific_path + os.sep + '*' + os.sep + pattern, recursive=True)\n",
    "\n",
    "files = [extract_plate_info(path) for path in file_list]\n",
    "\n",
    "file_dataframe = pd.DataFrame(files)\n",
    "\n",
    "file_dataframe['plate_replicate'] = file_dataframe['plate'] + '_' + file_dataframe['replicate']"
   ]
  },
  {
   "cell_type": "code",
   "execution_count": null,
   "metadata": {},
   "outputs": [],
   "source": [
    "# Remove batches FMP\n",
    "remove_batch = ['2024-07-19',\n",
    "                '2024-09-13',\n",
    "                '2024-09-26',]\n",
    "\n",
    "remove_plate = []\n",
    "\n",
    "remove_plate_replicate = ['C1032_R1']"
   ]
  },
  {
   "cell_type": "code",
   "execution_count": null,
   "metadata": {},
   "outputs": [],
   "source": [
    "number_processed = len(file_dataframe)\n",
    "print(number_processed, ' out of 300 plates processed') \n",
    "precent_processed = (number_processed / 300 ) * 100\n",
    "print(int(precent_processed), '% processed')\n",
    "\n",
    "file_dataframe_filtered_1 = file_dataframe[~file_dataframe[\"batch\"].isin(remove_batch)]\n",
    "file_dataframe_filtered_2 = file_dataframe_filtered_1[~file_dataframe_filtered_1[\"plate\"].isin(remove_plate)]\n",
    "file_dataframe_filtered_3 = file_dataframe_filtered_2[~file_dataframe_filtered_2['plate_replicate'].isin(remove_plate_replicate)]\n",
    "\n",
    "rejected_plates = number_processed - len(file_dataframe_filtered_3)\n",
    "rejected_corr = rejected_plates - len(remove_batch) + 1\n",
    "print(rejected_corr, ' plates rejected')\n",
    "\n",
    "percent_rejected = rejected_corr / number_processed * 100\n",
    "print(int(percent_rejected), '% plates rejected')"
   ]
  },
  {
   "cell_type": "markdown",
   "metadata": {},
   "source": [
    "# Correlation based feature reduction"
   ]
  },
  {
   "cell_type": "code",
   "execution_count": null,
   "metadata": {},
   "outputs": [],
   "source": [
    "# compute new feature set for each site using correlation based feature redcution\n",
    "\n",
    "def reduced_features(file_dataframe_filtered):\n",
    "\n",
    "    Data = []\n",
    "\n",
    "    file_list = file_dataframe_filtered['path']\n",
    "\n",
    "    for file in file_list:\n",
    "        \n",
    "        plate_map_name = os.path.splitext(os.path.basename(file))[0]\n",
    "        \n",
    "        try:\n",
    "            dataframe = pd.read_csv(file)\n",
    "            row_count = dataframe.shape[0]\n",
    "\n",
    "            Data.append(dataframe)\n",
    "        \n",
    "            print(f\"INFO: {plate_map_name} has {row_count} rows\")\n",
    "        \n",
    "        except Exception as e:\n",
    "        \n",
    "            print(f\"Error reading file {filename}: {e}\")\n",
    "\n",
    "    print(\"Feature reduction with correlation threshold 0.9 and Outlier threshold 100\")\n",
    "\n",
    "    Data_aggregated = pd.concat(Data)\n",
    "    Data_aggregated = Data_aggregated.reset_index(drop = True)\n",
    "    reduced_feature_dataframe = CBE.feature_reduction(Data_aggregated,\n",
    "                                             variance_freq_cut=0.1,\n",
    "                                             variance_unique_cut=0.1,\n",
    "                                             outlier_cutoff=100,\n",
    "                                             corr_threshold = 0.9,\n",
    "                                             print_stats = True)\n",
    "    \n",
    "    return CBE.get_feature_vector(reduced_feature_dataframe)"
   ]
  },
  {
   "cell_type": "code",
   "execution_count": null,
   "metadata": {},
   "outputs": [],
   "source": [
    "fmp_feature_set = reduced_features(file_dataframe_filtered_2)\n"
   ]
  },
  {
   "cell_type": "code",
   "execution_count": null,
   "metadata": {},
   "outputs": [],
   "source": [
    "len(fmp_feature_set)"
   ]
  },
  {
   "cell_type": "code",
   "execution_count": null,
   "metadata": {},
   "outputs": [],
   "source": [
    "test_file = file_dataframe_filtered_2['path'][0]"
   ]
  },
  {
   "cell_type": "code",
   "execution_count": null,
   "metadata": {},
   "outputs": [],
   "source": [
    "path_norm_reduced_data = os.path.dirname(test_file)"
   ]
  },
  {
   "cell_type": "code",
   "execution_count": null,
   "metadata": {},
   "outputs": [],
   "source": [
    "batch_plate_folder = Path(path_norm_reduced_data).parts[0]\n",
    "batch_plate_folder"
   ]
  },
  {
   "cell_type": "code",
   "execution_count": null,
   "metadata": {},
   "outputs": [],
   "source": [
    "plate_map_name = os.path.splitext(os.path.basename(test_file))[0]\n",
    "plate_map_name "
   ]
  },
  {
   "cell_type": "code",
   "execution_count": null,
   "metadata": {},
   "outputs": [],
   "source": [
    "dataframes_normalized_reduced_dict = {}\n",
    "file_list = file_dataframe_filtered_2['path']\n",
    "\n",
    "for file in file_list:\n",
    "    \n",
    "    plate_map_name = os.path.splitext(os.path.basename(file))[0]\n",
    "    \n",
    "    try:\n",
    "        \n",
    "        dataframe = pd.read_csv(file)\n",
    "        row_count = dataframe.shape[0]\n",
    "        \n",
    "        print(f\"INFO: {plate_map_name} has {row_count} rows\")\n",
    "\n",
    "        features = CBE.get_feature_vector(dataframe)\n",
    "        metadata = set(dataframe.columns) - set(features)\n",
    "\n",
    "        number_features = len(features)\n",
    "\n",
    "        print(f\"INFO: {plate_map_name} has {number_features} features\")\n",
    "\n",
    "        reduced_feature_set = set(fmp_feature_set)\n",
    "\n",
    "        features_to_remove = [item for item in features if item not in reduced_feature_set]\n",
    "    \n",
    "        dataframe_reduced_features = dataframe.drop(columns = features_to_remove)\n",
    "\n",
    "        reduced_features = CBE.get_feature_vector(dataframe_reduced_features)\n",
    "\n",
    "        number_reduced_features = len(reduced_features)\n",
    "\n",
    "        print(f\"INFO: {plate_map_name} has {number_reduced_features} features after feature reduction\")\n",
    "    \n",
    "        filename_norm_reduced_data = plate_map_name + \"_reduced-corr.csv\"\n",
    "    \n",
    "        new_source_path = os.path.join(input_path, 'FMP_Filtered')\n",
    "\n",
    "        try:\n",
    "            os.makedirs(new_source_path)\n",
    "            print(f\"Folder '{new_source_path}' created successfully!\")\n",
    "\n",
    "        except FileExistsError:\n",
    "            print(f\"Folder '{new_source_path}' already exists.\")\n",
    "\n",
    "\n",
    "        \n",
    "\n",
    "        new_plate_map_name_path = os.path.join(new_source_path, batch_plate_folder)\n",
    "\n",
    "        try:\n",
    "            os.makedirs(new_plate_map_name_path)\n",
    "            print(f\"Folder '{new_plate_map_name_path}' created successfully!\")\n",
    "\n",
    "        except FileExistsError:\n",
    "            print(f\"Folder '{new_plate_map_name_path}' already exists.\")\n",
    "\n",
    "        file_path_norm_reduced_data = os.path.join(new_plate_map_name_path, filename_norm_reduced_data)\n",
    "    \n",
    "        dataframe_reduced_features.to_csv(file_path_norm_reduced_data, index=False)\n",
    "    \n",
    "        print(f\"INFO: Saved {filename_norm_reduced_data}\")\n",
    "\n",
    "        dict_key = dataframe_reduced_features['Metadata_staining_date'][0].astype(str) + \"_\" + dataframe_reduced_features['Metadata_source'][0] + \"_\" + dataframe_reduced_features['Metadata_plate_map_name'][0]\n",
    "\n",
    "        dataframes_normalized_reduced_dict[dict_key] = dataframe_reduced_features\n",
    "        \n",
    "    except Exception as e:\n",
    "        \n",
    "        print(f\"Error reading file {plate_map_name}: {e}\") "
   ]
  }
 ],
 "metadata": {
  "kernelspec": {
   "display_name": "vspaint",
   "language": "python",
   "name": "python3"
  },
  "language_info": {
   "codemirror_mode": {
    "name": "ipython",
    "version": 3
   },
   "file_extension": ".py",
   "mimetype": "text/x-python",
   "name": "python",
   "nbconvert_exporter": "python",
   "pygments_lexer": "ipython3",
   "version": "3.9.16"
  }
 },
 "nbformat": 4,
 "nbformat_minor": 2
}
