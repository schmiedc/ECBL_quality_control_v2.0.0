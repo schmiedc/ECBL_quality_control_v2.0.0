{
 "cells": [
  {
   "cell_type": "code",
   "execution_count": 1,
   "metadata": {},
   "outputs": [],
   "source": [
    "import time\n",
    "from datetime import date\n",
    "import pandas as pd\n",
    "import os\n",
    "import glob\n",
    "import re"
   ]
  },
  {
   "cell_type": "code",
   "execution_count": 2,
   "metadata": {},
   "outputs": [
    {
     "data": {
      "text/plain": [
       "<module 'CBE_utils' from '/home/schmiedc/FMP_Docs/Projects/ECBL_Project/QualityControl_analysis_revision/notebooks_revision/CBE_utils.py'>"
      ]
     },
     "execution_count": 2,
     "metadata": {},
     "output_type": "execute_result"
    }
   ],
   "source": [
    "import importlib\n",
    "import CBE_utils as CBE\n",
    "importlib.reload(CBE)"
   ]
  },
  {
   "cell_type": "code",
   "execution_count": 3,
   "metadata": {},
   "outputs": [],
   "source": [
    "input_dir = \"/home/schmiedc/FMP_Docs/Projects/ECBL_Project/QualityControl_analysis_revision/reduced_features/\"\n",
    "output_dir = input_dir"
   ]
  },
  {
   "cell_type": "markdown",
   "metadata": {},
   "source": [
    "# Load data"
   ]
  },
  {
   "cell_type": "code",
   "execution_count": 4,
   "metadata": {},
   "outputs": [],
   "source": [
    "fmp_U2OS_path = os.path.join(input_dir, \"2023-12-12_Bioactives_U2OS_norm_reduced_filtered.csv\")\n",
    "\n",
    "fmp_U2OS = pd.read_csv(fmp_U2OS_path)"
   ]
  },
  {
   "cell_type": "code",
   "execution_count": 5,
   "metadata": {},
   "outputs": [],
   "source": [
    "fmp_HepG2_path = os.path.join(input_dir, \"2023-11-22_Bioactives_HepG2_norm_reduced_filtered.csv\")\n",
    "\n",
    "fmp_HepG2 = pd.read_csv(fmp_HepG2_path)"
   ]
  },
  {
   "cell_type": "code",
   "execution_count": 6,
   "metadata": {},
   "outputs": [],
   "source": [
    "imtm_HepG2_path = os.path.join(input_dir, \"2023-10-10_IMTM_HepG2_norm_reduced_filtered.csv\")\n",
    "\n",
    "imtm_HepG2 = pd.read_csv(imtm_HepG2_path)"
   ]
  },
  {
   "cell_type": "code",
   "execution_count": 7,
   "metadata": {},
   "outputs": [],
   "source": [
    "medi_HepG2_path = os.path.join(input_dir, \"2023-11-28_MEDI_HepG2_norm_reduced_filtered.csv\")\n",
    "\n",
    "medi_HepG2 = pd.read_csv(medi_HepG2_path)"
   ]
  },
  {
   "cell_type": "code",
   "execution_count": 8,
   "metadata": {},
   "outputs": [],
   "source": [
    "usc_HepG2_path = os.path.join(input_dir, \"2023-11-28_USC_HepG2_norm_reduced_filtered.csv\")\n",
    "\n",
    "usc_HepG2 = pd.read_csv(usc_HepG2_path)"
   ]
  },
  {
   "cell_type": "code",
   "execution_count": 9,
   "metadata": {},
   "outputs": [],
   "source": [
    "# extract features\n",
    "features_fmp_U2OS  = CBE.get_feature_vector(fmp_U2OS)\n",
    "features_fmp_HepG2  = CBE.get_feature_vector(fmp_HepG2)\n",
    "features_imtm_HepG2  = CBE.get_feature_vector(imtm_HepG2)\n",
    "features_medi_HepG2  = CBE.get_feature_vector(medi_HepG2)\n",
    "features_usc_HepG2  = CBE.get_feature_vector(usc_HepG2)"
   ]
  },
  {
   "cell_type": "code",
   "execution_count": 10,
   "metadata": {},
   "outputs": [],
   "source": [
    "common_features = set(features_fmp_HepG2).intersection(features_imtm_HepG2, features_medi_HepG2, features_usc_HepG2)"
   ]
  },
  {
   "cell_type": "code",
   "execution_count": 11,
   "metadata": {},
   "outputs": [],
   "source": [
    "# Example for saving\n",
    "with open(output_dir + 'common_features.txt', 'w') as f:\n",
    "    for item in common_features:\n",
    "        f.write(f\"{item}\\n\")"
   ]
  },
  {
   "cell_type": "code",
   "execution_count": 12,
   "metadata": {},
   "outputs": [],
   "source": [
    "# Example for saving\n",
    "with open(output_dir + 'medina_features.txt', 'w') as f:\n",
    "    for item in features_medi_HepG2:\n",
    "        f.write(f\"{item}\\n\")"
   ]
  },
  {
   "cell_type": "code",
   "execution_count": 16,
   "metadata": {},
   "outputs": [],
   "source": [
    "# Example for saving\n",
    "with open(output_dir + 'fmp_HepG2_features.txt', 'w') as f:\n",
    "    for item in features_fmp_HepG2:\n",
    "        f.write(f\"{item}\\n\")"
   ]
  },
  {
   "cell_type": "code",
   "execution_count": 13,
   "metadata": {},
   "outputs": [],
   "source": [
    "# Example for saving\n",
    "with open(output_dir + 'fmp_U2OS_features.txt', 'w') as f:\n",
    "    for item in features_fmp_U2OS:\n",
    "        f.write(f\"{item}\\n\")"
   ]
  },
  {
   "cell_type": "code",
   "execution_count": 14,
   "metadata": {},
   "outputs": [],
   "source": [
    "# Example for saving\n",
    "with open(output_dir + 'imtm_features.txt', 'w') as f:\n",
    "    for item in features_imtm_HepG2 :\n",
    "        f.write(f\"{item}\\n\")"
   ]
  },
  {
   "cell_type": "code",
   "execution_count": 15,
   "metadata": {},
   "outputs": [],
   "source": [
    "# Example for saving\n",
    "with open(output_dir + 'usc_features.txt', 'w') as f:\n",
    "    for item in features_usc_HepG2 :\n",
    "        f.write(f\"{item}\\n\")"
   ]
  },
  {
   "cell_type": "code",
   "execution_count": null,
   "metadata": {},
   "outputs": [],
   "source": []
  }
 ],
 "metadata": {
  "kernelspec": {
   "display_name": "vspaint",
   "language": "python",
   "name": "python3"
  },
  "language_info": {
   "codemirror_mode": {
    "name": "ipython",
    "version": 3
   },
   "file_extension": ".py",
   "mimetype": "text/x-python",
   "name": "python",
   "nbconvert_exporter": "python",
   "pygments_lexer": "ipython3",
   "version": "3.9.16"
  }
 },
 "nbformat": 4,
 "nbformat_minor": 2
}
