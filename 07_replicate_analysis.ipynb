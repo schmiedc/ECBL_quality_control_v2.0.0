{
 "cells": [
  {
   "cell_type": "code",
   "execution_count": null,
   "metadata": {},
   "outputs": [],
   "source": [
    "import time\n",
    "from datetime import date\n",
    "import pandas as pd\n",
    "import os\n",
    "import glob\n",
    "import pycytominer\n",
    "import sys\n",
    "import CBE_utils as CBE\n",
    "import matplotlib.pyplot as plt\n",
    "import seaborn as sns\n",
    "import numpy as np\n",
    "from scipy.spatial.distance import correlation\n",
    "import re\n",
    "import gc"
   ]
  },
  {
   "cell_type": "code",
   "execution_count": null,
   "metadata": {},
   "outputs": [],
   "source": [
    "import importlib\n",
    "importlib.reload(CBE)"
   ]
  },
  {
   "cell_type": "code",
   "execution_count": null,
   "metadata": {},
   "outputs": [],
   "source": [
    "input_path = \"/home/schmiedc/FMP_Docs/Projects/ECBL_Project/QualityControl_analysis_revision/output/\"\n",
    "output_path = \"/home/schmiedc/FMP_Docs/Projects/ECBL_Project/QualityControl_analysis_revision/results/\"\n",
    "\n",
    "annotation_dir = \"/home/schmiedc/FMP_Docs/Projects/ECBL_Project/QualityControl_analysis_revision/annotation/\""
   ]
  },
  {
   "cell_type": "code",
   "execution_count": null,
   "metadata": {},
   "outputs": [],
   "source": [
    "# get folder list \n",
    "# load for each site the normalized files\n",
    "# reduce the features selecting the correct feature list\n",
    "folders = [name for name in os.listdir(input_path) if os.path.isdir(os.path.join(input_path, name))]"
   ]
  },
  {
   "cell_type": "code",
   "execution_count": null,
   "metadata": {},
   "outputs": [],
   "source": [
    "pattern = \"[A-Z][0-9][0-9][0-9][0-9]_R[1-4]_mad_robustize_reduced-corr.csv\"\n",
    "\n",
    "FMP_Data = []\n",
    "IMTM_Data = []\n",
    "MEDINA_Data = []\n",
    "USC_Data = []\n",
    "\n",
    "for folder in folders:\n",
    "\n",
    "    site_specific_path = os.path.join(input_path, folder)\n",
    "\n",
    "    # load normalized data\n",
    "    file_list = glob.glob(site_specific_path + os.sep + '*' + os.sep + pattern, recursive=True)\n",
    "\n",
    "    for file in file_list:\n",
    "\n",
    "        filename = os.path.basename(file)\n",
    "    \n",
    "        try:\n",
    "        \n",
    "            Data_Temp = pd.read_csv(file)\n",
    "            row_count = Data_Temp.shape[0]\n",
    "        \n",
    "            print(f\"File: {filename} has {row_count} rows\")\n",
    "        \n",
    "            if folder == 'FMP':\n",
    "                \n",
    "                FMP_Data.append(Data_Temp)\n",
    "\n",
    "            elif folder == 'IMTM':\n",
    "\n",
    "                IMTM_Data.append(Data_Temp)\n",
    "\n",
    "            elif folder == 'MEDINA':\n",
    "\n",
    "                MEDINA_Data.append(Data_Temp)\n",
    "\n",
    "            elif folder == 'USC':\n",
    "\n",
    "                USC_Data.append(Data_Temp)\n",
    "            \n",
    "        except Exception as e:\n",
    "        \n",
    "            print(f\"Error reading file {filename}: {e}\")\n",
    "        \n",
    "        \n"
   ]
  },
  {
   "cell_type": "code",
   "execution_count": null,
   "metadata": {},
   "outputs": [],
   "source": [
    "### concat all files together\n",
    "FMP_Data_aggregated = pd.concat(FMP_Data)\n",
    "FMP_Data_aggregated = FMP_Data_aggregated.reset_index(drop = True)\n",
    "print(\"Aggregated Data has shape \", FMP_Data_aggregated.shape)"
   ]
  },
  {
   "cell_type": "code",
   "execution_count": null,
   "metadata": {},
   "outputs": [],
   "source": [
    "IMTM_Data_aggregated = pd.concat(IMTM_Data)\n",
    "IMTM_Data_aggregated = IMTM_Data_aggregated.reset_index(drop = True)\n",
    "print(\"Aggregated Data has shape \", IMTM_Data_aggregated.shape)"
   ]
  },
  {
   "cell_type": "code",
   "execution_count": null,
   "metadata": {},
   "outputs": [],
   "source": [
    "MEDINA_Data_aggregated = pd.concat(MEDINA_Data)\n",
    "MEDINA_Data_aggregated = MEDINA_Data_aggregated.reset_index(drop = True)\n",
    "print(\"Aggregated Data has shape \", MEDINA_Data_aggregated.shape)"
   ]
  },
  {
   "cell_type": "code",
   "execution_count": null,
   "metadata": {},
   "outputs": [],
   "source": [
    "USC_Data_aggregated = pd.concat(USC_Data)\n",
    "USC_Data_aggregated = USC_Data_aggregated.reset_index(drop = True)\n",
    "print(\"Aggregated Data has shape \", USC_Data_aggregated.shape)"
   ]
  },
  {
   "cell_type": "code",
   "execution_count": null,
   "metadata": {},
   "outputs": [],
   "source": [
    "Data_aggregated = IMTM_Data_aggregated"
   ]
  },
  {
   "cell_type": "code",
   "execution_count": null,
   "metadata": {},
   "outputs": [],
   "source": [
    "Data_aggregated.head()"
   ]
  },
  {
   "cell_type": "code",
   "execution_count": null,
   "metadata": {},
   "outputs": [],
   "source": [
    "# get unique Metadata_RoughID\n",
    "def merge_if_eos_cpd(row):\n",
    "\n",
    "    if row['Metadata_RoughID'] == 'EOS_cpd':\n",
    "\n",
    "        return f\"{row['Metadata_plate_name']}_{row['Metadata_Well']}\"\n",
    "    \n",
    "    else:\n",
    "\n",
    "        return row['Metadata_RoughID']\n",
    "    \n",
    "\n",
    "Data_aggregated['Metadata_RoughID_unique'] = Data_aggregated.apply(merge_if_eos_cpd, axis=1)"
   ]
  },
  {
   "cell_type": "code",
   "execution_count": null,
   "metadata": {},
   "outputs": [],
   "source": [
    "Data_aggregated.head()"
   ]
  },
  {
   "cell_type": "markdown",
   "metadata": {},
   "source": [
    "# Paper Version"
   ]
  },
  {
   "cell_type": "code",
   "execution_count": null,
   "metadata": {},
   "outputs": [],
   "source": [
    "len(Data_aggregated)"
   ]
  },
  {
   "cell_type": "code",
   "execution_count": null,
   "metadata": {},
   "outputs": [],
   "source": [
    "# Filter for plates with four replicates\n",
    "\n",
    "replicate_list = Data_aggregated['Metadata_plate_map_name'].unique()\n",
    "replicate_dataframe = pd.DataFrame(replicate_list, columns=['Metadata_plate_map_name']) \n",
    "\n",
    "replicate_list_newcolumns = replicate_dataframe['Metadata_plate_map_name'].str.split('_', n=1, expand=True)\n",
    "replicate_dataframe['Metadata_plate_name'] = replicate_list_newcolumns[0]\n",
    "replicate_dataframe['Metadata_replicate_number'] = replicate_list_newcolumns[1]\n",
    "\n",
    "replicate_counts = replicate_dataframe.groupby('Metadata_plate_name')['Metadata_replicate_number'].count().reset_index()\n",
    "\n",
    "replicate_counts "
   ]
  },
  {
   "cell_type": "code",
   "execution_count": null,
   "metadata": {},
   "outputs": [],
   "source": [
    "# Group by 'measurement_code' and filter groups that have exactly the specified number of replicates\n",
    "filtered_replicate_dataframe= replicate_dataframe.groupby('Metadata_plate_name').filter(lambda x: len(x['Metadata_replicate_number']) == 4)\n",
    "filtered_replicate_dataframe = filtered_replicate_dataframe.sort_values(by=['Metadata_plate_name'])\n",
    "\n",
    "Data_aggregated_filtered = Data_aggregated[Data_aggregated['Metadata_plate_map_name'].isin(filtered_replicate_dataframe['Metadata_plate_map_name'])]"
   ]
  },
  {
   "cell_type": "code",
   "execution_count": null,
   "metadata": {},
   "outputs": [],
   "source": [
    "Data_aggregated_filtered.head()\n",
    "print(Data_aggregated_filtered['Metadata_source'].unique())\n",
    "print(Data_aggregated_filtered['Metadata_plate_name'].unique())"
   ]
  },
  {
   "cell_type": "markdown",
   "metadata": {},
   "source": [
    "## Toxicity filter"
   ]
  },
  {
   "cell_type": "code",
   "execution_count": null,
   "metadata": {},
   "outputs": [],
   "source": [
    "HepG2_Reduced_Tox, HepG2_Reduced_Tox_Cond = CBE.remove_tox(\n",
    "    Data_aggregated_filtered, \n",
    "    key_col = [\"Metadata_RoughID_unique\", \"Metadata_plate_name\"], \n",
    "    SD_Threshold = 2.5,  \n",
    "    plot_distribution = True)"
   ]
  },
  {
   "cell_type": "code",
   "execution_count": null,
   "metadata": {},
   "outputs": [],
   "source": [
    "len(HepG2_Reduced_Tox[\"Metadata_RoughID_unique\"].unique())"
   ]
  },
  {
   "cell_type": "markdown",
   "metadata": {},
   "source": [
    "## Raw %Replication"
   ]
  },
  {
   "cell_type": "code",
   "execution_count": null,
   "metadata": {},
   "outputs": [],
   "source": [
    "HepG2_replicating, HepG2_corr_replicating_df = CBE.remove_non_reproducible(\n",
    "    Data_aggregated_filtered, \n",
    "    n_samples = 10000, \n",
    "    n_replicates = 4, \n",
    "    ID_col = \"Metadata_RoughID_unique\", \n",
    "    description = \"Data_50\")"
   ]
  },
  {
   "cell_type": "code",
   "execution_count": null,
   "metadata": {},
   "outputs": [],
   "source": [
    "n_experiments = len(HepG2_corr_replicating_df)\n",
    "\n",
    "plt.rcParams['figure.facecolor'] = 'white' # Enabling this makes the figure axes and labels visible in PyCharm Dracula theme\n",
    "plt.figure(figsize=[12, n_experiments*6])\n",
    "\n",
    "for i in range(n_experiments):\n",
    "    plt.subplot(n_experiments, 1, i+1)\n",
    "    plt.hist(HepG2_corr_replicating_df.loc[i,'Null_Replicating'], label='non-replicates', density=True, bins=20, alpha=0.5)\n",
    "    plt.hist(HepG2_corr_replicating_df.loc[i,'Replicating'], label='replicates', density=True, bins=20, alpha=0.5)\n",
    "    plt.axvline(HepG2_corr_replicating_df.loc[i,'Value_95'], label='95% threshold')\n",
    "    plt.legend(fontsize=20)\n",
    "    plt.title(\n",
    "        f\"{HepG2_corr_replicating_df.loc[i,'Description']}\\n\" +\n",
    "        f\"Percent Replicating = {HepG2_corr_replicating_df.loc[i,'Percent_Replicating']}\",\n",
    "        fontsize=25\n",
    "    )\n",
    "    plt.ylabel(\"density\", fontsize=25)\n",
    "    plt.xlabel(\"Batch correlation\", fontsize=25)\n",
    "    plt.xticks(fontsize=20)\n",
    "    plt.yticks(fontsize=20)\n",
    "    sns.despine()\n",
    "plt.tight_layout()\n",
    "\n",
    "plt.savefig(output_path + str(date.today()) + \"_Percent_Replicating.pdf\", \n",
    "            transparent=False, \n",
    "            bbox_inches='tight', \n",
    "            dpi = 600)"
   ]
  },
  {
   "cell_type": "code",
   "execution_count": null,
   "metadata": {},
   "outputs": [],
   "source": [
    "len(HepG2_replicating[\"Metadata_RoughID_unique\"].unique())"
   ]
  },
  {
   "cell_type": "markdown",
   "metadata": {},
   "source": [
    "## Activity filter"
   ]
  },
  {
   "cell_type": "code",
   "execution_count": null,
   "metadata": {},
   "outputs": [],
   "source": [
    "Data_aggregated_filtered[\"Metadata_plate_name\"]"
   ]
  },
  {
   "cell_type": "code",
   "execution_count": null,
   "metadata": {},
   "outputs": [],
   "source": [
    "Data_aggregated_filtered[\"Metadata_RoughID_unique\"]"
   ]
  },
  {
   "cell_type": "code",
   "execution_count": null,
   "metadata": {},
   "outputs": [],
   "source": [
    "## gets feature vector\n",
    "Features_HepG2_Norm_Reduced = CBE.get_feature_vector(Data_aggregated_filtered)\n",
    "\n",
    "HepG2_Norm_Reduced_Median = pycytominer.consensus(\n",
    "        profiles = Data_aggregated_filtered, # A file or pandas DataFrame of profile data\n",
    "        replicate_columns = [\"Metadata_RoughID_unique\", \"Metadata_plate_name\", \"Metadata_source\"], # Metadata columns indicating which replicates to collapse, defaults to [“Metadata_Plate”, “Metadata_Well”]\n",
    "        operation = \"median\", # (str) – The method used to form consensus profiles, defaults to “median”\n",
    "        features = Features_HepG2_Norm_Reduced, # (str, list) – The features to collapse, defaults to “infer”\n",
    ")"
   ]
  },
  {
   "cell_type": "code",
   "execution_count": null,
   "metadata": {},
   "outputs": [],
   "source": [
    "len(HepG2_Norm_Reduced_Median[\"Metadata_RoughID_unique\"].unique())"
   ]
  },
  {
   "cell_type": "code",
   "execution_count": null,
   "metadata": {},
   "outputs": [],
   "source": [
    "key_col = [\"Metadata_RoughID_unique\", \"Metadata_plate_name\", \"Metadata_source\"]\n",
    "\n",
    "HepG2_active, HepG2_low_active = CBE.remove_low_active(HepG2_Norm_Reduced_Median, \n",
    "                                                   key_col,\n",
    "                                                   3.0, \n",
    "                                                   5.0)\n",
    "\n",
    "print(\"HepG2 active:\", len(HepG2_active[\"Metadata_RoughID_unique\"].unique()))\n",
    "print(\"HepG2 low-active:\", len(HepG2_low_active[\"Metadata_RoughID_unique\"].unique()))"
   ]
  },
  {
   "cell_type": "code",
   "execution_count": null,
   "metadata": {},
   "outputs": [],
   "source": [
    "HepG2_Reduced_Tox_active = Data_aggregated_filtered[\n",
    "    (Data_aggregated_filtered['Metadata_RoughID_unique'].isin(HepG2_active['Metadata_RoughID_unique']))]"
   ]
  },
  {
   "cell_type": "code",
   "execution_count": null,
   "metadata": {},
   "outputs": [],
   "source": [
    "HepG2_Reduced_Tox_active[\"Metadata_RoughID_unique\"].unique()"
   ]
  },
  {
   "cell_type": "markdown",
   "metadata": {},
   "source": [
    "# Active %Replication"
   ]
  },
  {
   "cell_type": "code",
   "execution_count": null,
   "metadata": {},
   "outputs": [],
   "source": [
    "HepG2_active_replicating, HepG2_active_corr_replicating_df = CBE.remove_non_reproducible(\n",
    "    HepG2_Reduced_Tox_active, \n",
    "    n_samples = 10000, \n",
    "    n_replicates = 4, \n",
    "    ID_col = \"Metadata_RoughID_unique\", \n",
    "    description = \"Data_50\")"
   ]
  },
  {
   "cell_type": "code",
   "execution_count": null,
   "metadata": {},
   "outputs": [],
   "source": [
    "# plot % replicating\n",
    "corr_replicating_df = HepG2_active_corr_replicating_df\n",
    "\n",
    "n_experiments = len(corr_replicating_df)\n",
    "\n",
    "\n",
    "plt.rcParams['figure.facecolor'] = 'white' # Enabling this makes the figure axes and labels visible in PyCharm Dracula theme\n",
    "plt.figure(figsize=[12, n_experiments*6])\n",
    "\n",
    "for i in range(n_experiments):\n",
    "    plt.subplot(n_experiments, 1, i+1)\n",
    "    plt.hist(corr_replicating_df.loc[i,'Null_Replicating'], label='non-replicates', density=True, bins=20, alpha=0.5)\n",
    "    plt.hist(corr_replicating_df.loc[i,'Replicating'], label='replicates', density=True, bins=20, alpha=0.5)\n",
    "    plt.axvline(corr_replicating_df.loc[i,'Value_95'], label='95% threshold')\n",
    "    plt.legend(fontsize=20)\n",
    "    plt.title(\n",
    "        f\"{corr_replicating_df.loc[i,'Description']}\\n\" +\n",
    "        f\"Percent Replicating = {corr_replicating_df.loc[i,'Percent_Replicating']}\",\n",
    "        fontsize=25\n",
    "    )\n",
    "    plt.ylabel(\"density\", fontsize=25)\n",
    "    plt.xlabel(\"Batch correlation\", fontsize=25)\n",
    "    plt.xticks(fontsize=20)\n",
    "    plt.yticks(fontsize=20)\n",
    "    sns.despine()\n",
    "plt.tight_layout()\n",
    "\n",
    "plt.savefig(output_path + str(date.today()) + \"_Percent_Replicating_Induction_Filter.pdf\", \n",
    "            transparent=False, \n",
    "            bbox_inches='tight', \n",
    "            dpi = 600)# "
   ]
  },
  {
   "cell_type": "markdown",
   "metadata": {},
   "source": [
    "# Compute activity from single replicates"
   ]
  },
  {
   "cell_type": "code",
   "execution_count": null,
   "metadata": {},
   "outputs": [],
   "source": [
    "Data_aggregated_filtered_R1 = Data_aggregated_filtered[Data_aggregated_filtered[\"Metadata_replicate_number\"] == \"R1\"]\n",
    "\n",
    "Data_aggregated_filtered_R1 \n",
    "\n",
    "\n",
    "features = CBE.get_feature_vector(Data_aggregated_filtered_R1)\n",
    "metadata_dataframe = set(Data_aggregated_filtered_R1.columns) - set(features)"
   ]
  },
  {
   "cell_type": "code",
   "execution_count": null,
   "metadata": {},
   "outputs": [],
   "source": [
    "HepG2_active, HepG2_low_active = CBE.remove_low_active(Data_aggregated_filtered_R1, \n",
    "                                                   metadata_dataframe,\n",
    "                                                   3.0, \n",
    "                                                   5.0)\n",
    "\n",
    "print(\"HepG2 active:\", len(HepG2_active[\"Metadata_RoughID_unique\"].unique()))\n",
    "print(\"HepG2 low-active:\", len(HepG2_low_active[\"Metadata_RoughID_unique\"].unique()))"
   ]
  },
  {
   "cell_type": "code",
   "execution_count": null,
   "metadata": {},
   "outputs": [],
   "source": [
    "Data_aggregated_filtered_R2 = Data_aggregated_filtered[Data_aggregated_filtered[\"Metadata_replicate_number\"] == \"R2\"]\n",
    "\n",
    "HepG2_active, HepG2_low_active = CBE.remove_low_active(Data_aggregated_filtered_R2, \n",
    "                                                   metadata_dataframe,\n",
    "                                                   3.0, \n",
    "                                                   5.0)\n",
    "\n",
    "print(\"HepG2 active:\", len(HepG2_active[\"Metadata_RoughID_unique\"].unique()))\n",
    "print(\"HepG2 low-active:\", len(HepG2_low_active[\"Metadata_RoughID_unique\"].unique()))"
   ]
  },
  {
   "cell_type": "code",
   "execution_count": null,
   "metadata": {},
   "outputs": [],
   "source": [
    "Data_aggregated_filtered_R3 = Data_aggregated_filtered[Data_aggregated_filtered[\"Metadata_replicate_number\"] == \"R3\"]\n",
    "\n",
    "HepG2_active, HepG2_low_active = CBE.remove_low_active(Data_aggregated_filtered_R3, \n",
    "                                                   metadata_dataframe,\n",
    "                                                   3.0, \n",
    "                                                   5.0)\n",
    "\n",
    "print(\"HepG2 active:\", len(HepG2_active[\"Metadata_RoughID_unique\"].unique()))\n",
    "print(\"HepG2 low-active:\", len(HepG2_low_active[\"Metadata_RoughID_unique\"].unique()))"
   ]
  },
  {
   "cell_type": "code",
   "execution_count": null,
   "metadata": {},
   "outputs": [],
   "source": [
    "Data_aggregated_filtered_R4 = Data_aggregated_filtered[Data_aggregated_filtered[\"Metadata_replicate_number\"] == \"R4\"]\n",
    "\n",
    "HepG2_active, HepG2_low_active = CBE.remove_low_active(Data_aggregated_filtered_R4, \n",
    "                                                   metadata_dataframe,\n",
    "                                                   3.0, \n",
    "                                                   5.0)\n",
    "\n",
    "print(\"HepG2 active:\", len(HepG2_active[\"Metadata_RoughID_unique\"].unique()))\n",
    "print(\"HepG2 low-active:\", len(HepG2_low_active[\"Metadata_RoughID_unique\"].unique()))"
   ]
  },
  {
   "cell_type": "markdown",
   "metadata": {},
   "source": [
    "# Reproduce with randomly assinged identity"
   ]
  },
  {
   "cell_type": "code",
   "execution_count": null,
   "metadata": {},
   "outputs": [],
   "source": [
    "Data_aggregated_filtered_copy = Data_aggregated_filtered.copy()"
   ]
  },
  {
   "cell_type": "code",
   "execution_count": null,
   "metadata": {},
   "outputs": [],
   "source": [
    "# get unique Metadata_RoughID\n",
    "def randomized_ID(row):\n",
    "\n",
    "    if row['Metadata_RoughID'] == 'EOS_cpd':\n",
    "\n",
    "        return f\"{row['Metadata_plate_name']}_{row['Metadata_Well_randomized']}\"\n",
    "    \n",
    "    else:\n",
    "\n",
    "        return row['Metadata_RoughID']"
   ]
  },
  {
   "cell_type": "code",
   "execution_count": null,
   "metadata": {},
   "outputs": [],
   "source": [
    "Data_aggregated_filtered_copy['Metadata_RoughID_randomized'] = Data_aggregated_filtered_copy.apply(randomized_ID, axis=1)"
   ]
  },
  {
   "cell_type": "code",
   "execution_count": null,
   "metadata": {},
   "outputs": [],
   "source": [
    "Data_aggregated_filtered_copy.head()"
   ]
  },
  {
   "cell_type": "code",
   "execution_count": null,
   "metadata": {},
   "outputs": [],
   "source": [
    "random_replicating, corr_random_replicating = CBE.remove_non_reproducible(\n",
    "    Data_aggregated_filtered_copy, \n",
    "    n_samples = 10000, \n",
    "    n_replicates = 4, \n",
    "    ID_col = \"Metadata_RoughID_randomized\", \n",
    "    description = \"Data_50\")"
   ]
  },
  {
   "cell_type": "code",
   "execution_count": null,
   "metadata": {},
   "outputs": [],
   "source": [
    "n_experiments = len(corr_random_replicating)\n",
    "\n",
    "plt.rcParams['figure.facecolor'] = 'white' # Enabling this makes the figure axes and labels visible in PyCharm Dracula theme\n",
    "plt.figure(figsize=[12, n_experiments*6])\n",
    "\n",
    "for i in range(n_experiments):\n",
    "    plt.subplot(n_experiments, 1, i+1)\n",
    "    plt.hist(corr_random_replicating.loc[i,'Null_Replicating'], label='non-replicates', density=True, bins=20, alpha=0.5)\n",
    "    plt.hist(corr_random_replicating.loc[i,'Replicating'], label='replicates', density=True, bins=20, alpha=0.5)\n",
    "    plt.axvline(corr_random_replicating.loc[i,'Value_95'], label='95% threshold')\n",
    "    plt.legend(fontsize=20)\n",
    "    plt.title(\n",
    "        f\"{corr_random_replicating.loc[i,'Description']}\\n\" +\n",
    "        f\"Percent Replicating = {corr_random_replicating.loc[i,'Percent_Replicating']}\",\n",
    "        fontsize=25\n",
    "    )\n",
    "    plt.ylabel(\"density\", fontsize=25)\n",
    "    plt.xlabel(\"Batch correlation\", fontsize=25)\n",
    "    plt.xticks(fontsize=20)\n",
    "    plt.yticks(fontsize=20)\n",
    "    sns.despine()\n",
    "plt.tight_layout()\n",
    "\n",
    "plt.savefig(output_path + str(date.today()) + \"_Percent_Replicating.pdf\", \n",
    "            transparent=False, \n",
    "            bbox_inches='tight', \n",
    "            dpi = 600)"
   ]
  },
  {
   "cell_type": "code",
   "execution_count": null,
   "metadata": {},
   "outputs": [],
   "source": [
    "## gets feature vector\n",
    "Features = CBE.get_feature_vector(Data_aggregated_filtered_copy)\n",
    "\n",
    "random_median = pycytominer.consensus(\n",
    "        profiles = Data_aggregated_filtered_copy, # A file or pandas DataFrame of profile data\n",
    "        replicate_columns = [\"Metadata_RoughID_randomized\"], # Metadata columns indicating which replicates to collapse, defaults to [“Metadata_Plate”, “Metadata_Well”]\n",
    "        operation = \"median\", # (str) – The method used to form consensus profiles, defaults to “median”\n",
    "        features = Features, # (str, list) – The features to collapse, defaults to “infer”\n",
    ")"
   ]
  },
  {
   "cell_type": "code",
   "execution_count": null,
   "metadata": {},
   "outputs": [],
   "source": [
    "key_col = [\"Metadata_RoughID_randomized\"]\n",
    "\n",
    "active_random, low_active_random = CBE.remove_low_active(random_median, \n",
    "                                                   key_col,\n",
    "                                                   2.0, \n",
    "                                                   5.0)\n",
    "\n",
    "print(\"HepG2 active:\", len(active_random[\"Metadata_RoughID_randomized\"].unique()))\n",
    "print(\"HepG2 low-active:\", len(low_active_random[\"Metadata_RoughID_randomized\"].unique()))"
   ]
  },
  {
   "cell_type": "code",
   "execution_count": null,
   "metadata": {},
   "outputs": [],
   "source": [
    "active_random"
   ]
  },
  {
   "cell_type": "code",
   "execution_count": null,
   "metadata": {},
   "outputs": [],
   "source": [
    "replicates_active_random = Data_aggregated_filtered_copy[\n",
    "    (Data_aggregated_filtered_copy['Metadata_RoughID_randomized'].isin(active_random['Metadata_RoughID_randomized']))]"
   ]
  },
  {
   "cell_type": "code",
   "execution_count": null,
   "metadata": {},
   "outputs": [],
   "source": [
    "replicates_active_random.head()"
   ]
  },
  {
   "cell_type": "code",
   "execution_count": null,
   "metadata": {},
   "outputs": [],
   "source": [
    "len(replicates_active_random[\"Metadata_RoughID_randomized\"])"
   ]
  },
  {
   "cell_type": "code",
   "execution_count": null,
   "metadata": {},
   "outputs": [],
   "source": [
    "len(replicates_active_random[\"Metadata_RoughID_randomized\"].unique())"
   ]
  },
  {
   "cell_type": "code",
   "execution_count": null,
   "metadata": {},
   "outputs": [],
   "source": [
    "HepG2_active_replicating_random, HepG2_active_corr_replicating_df_random = CBE.remove_non_reproducible(\n",
    "    replicates_active_random, \n",
    "    n_samples = 10000, \n",
    "    n_replicates = 4, \n",
    "    ID_col = \"Metadata_RoughID_randomized\", \n",
    "    description = \"Data_50\")"
   ]
  },
  {
   "cell_type": "code",
   "execution_count": null,
   "metadata": {},
   "outputs": [],
   "source": [
    "# plot % replicating\n",
    "corr_replicating_df = HepG2_active_corr_replicating_df_random\n",
    "\n",
    "n_experiments = len(corr_replicating_df)\n",
    "\n",
    "\n",
    "plt.rcParams['figure.facecolor'] = 'white' # Enabling this makes the figure axes and labels visible in PyCharm Dracula theme\n",
    "plt.figure(figsize=[12, n_experiments*6])\n",
    "\n",
    "for i in range(n_experiments):\n",
    "    plt.subplot(n_experiments, 1, i+1)\n",
    "    plt.hist(corr_replicating_df.loc[i,'Null_Replicating'], label='non-replicates', density=True, bins=20, alpha=0.5)\n",
    "    plt.hist(corr_replicating_df.loc[i,'Replicating'], label='replicates', density=True, bins=20, alpha=0.5)\n",
    "    plt.axvline(corr_replicating_df.loc[i,'Value_95'], label='95% threshold')\n",
    "    plt.legend(fontsize=20)\n",
    "    plt.title(\n",
    "        f\"{corr_replicating_df.loc[i,'Description']}\\n\" +\n",
    "        f\"Percent Replicating = {corr_replicating_df.loc[i,'Percent_Replicating']}\",\n",
    "        fontsize=25\n",
    "    )\n",
    "    plt.ylabel(\"density\", fontsize=25)\n",
    "    plt.xlabel(\"Batch correlation\", fontsize=25)\n",
    "    plt.xticks(fontsize=20)\n",
    "    plt.yticks(fontsize=20)\n",
    "    sns.despine()\n",
    "plt.tight_layout()\n",
    "\n",
    "plt.savefig(output_path + str(date.today()) + \"_Percent_Replicating_Induction_Filter.pdf\", \n",
    "            transparent=False, \n",
    "            bbox_inches='tight', \n",
    "            dpi = 600)# "
   ]
  },
  {
   "cell_type": "code",
   "execution_count": null,
   "metadata": {},
   "outputs": [],
   "source": []
  }
 ],
 "metadata": {
  "kernelspec": {
   "display_name": "vspaint",
   "language": "python",
   "name": "python3"
  },
  "language_info": {
   "codemirror_mode": {
    "name": "ipython",
    "version": 3
   },
   "file_extension": ".py",
   "mimetype": "text/x-python",
   "name": "python",
   "nbconvert_exporter": "python",
   "pygments_lexer": "ipython3",
   "version": "3.9.16"
  }
 },
 "nbformat": 4,
 "nbformat_minor": 2
}
