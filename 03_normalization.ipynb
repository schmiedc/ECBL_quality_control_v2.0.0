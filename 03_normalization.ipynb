{
 "cells": [
  {
   "cell_type": "code",
   "execution_count": 7,
   "id": "1ca90cd2",
   "metadata": {},
   "outputs": [],
   "source": [
    "import time\n",
    "from datetime import date\n",
    "import pandas as pd\n",
    "import os\n",
    "import glob\n",
    "import pycytominer\n",
    "import sys\n",
    "import CBE_utils as CBE\n",
    "import matplotlib.pyplot as plt\n",
    "import seaborn as sns\n",
    "import numpy as np\n",
    "from scipy.spatial.distance import correlation\n",
    "import re\n",
    "import gc"
   ]
  },
  {
   "cell_type": "code",
   "execution_count": 8,
   "id": "5f25cf94",
   "metadata": {},
   "outputs": [
    {
     "data": {
      "text/plain": [
       "<module 'CBE_utils' from '/home/schmiedc/FMP_Docs/Projects/ECBL_Project/QualityControl_analysis_revision/notebooks_revision/CBE_utils.py'>"
      ]
     },
     "execution_count": 8,
     "metadata": {},
     "output_type": "execute_result"
    }
   ],
   "source": [
    "import importlib\n",
    "importlib.reload(CBE)"
   ]
  },
  {
   "cell_type": "code",
   "execution_count": 9,
   "id": "5f3d6412",
   "metadata": {},
   "outputs": [],
   "source": [
    "#input_path = \"/home/schmiedc/FMP_Docs/Projects/ECBL_Project/QualityControl_analysis_revision/output/\"\n",
    "# annotation_dir = \"/home/schmiedc/FMP_Docs/Projects/ECBL_Project/QualityControl_analysis_revision/annotation/\""
   ]
  },
  {
   "cell_type": "code",
   "execution_count": 10,
   "id": "f92a1553",
   "metadata": {},
   "outputs": [],
   "source": [
    "input_path = \"/home/schmiedc/FMP_Docs/Projects/ECBL_Project/QualityControl_analysis_revision/tech_test_output/\"\n",
    "annotation_dir = \"/home/schmiedc/FMP_Docs/Projects/ECBL_Project/QualityControl_analysis_revision/annotation/\""
   ]
  },
  {
   "cell_type": "markdown",
   "id": "3c34dc3f",
   "metadata": {},
   "source": [
    "# test\n",
    "input_path = \"/home/schmiedc/FMP_Docs/Projects/ECBL_Project/QualityControl_analysis_revision/test_output/\"\n",
    "annotation_dir = \"/home/schmiedc/FMP_Docs/Projects/ECBL_Project/QualityControl_analysis_revision/test_annotation/\""
   ]
  },
  {
   "cell_type": "code",
   "execution_count": 11,
   "id": "91169aae",
   "metadata": {},
   "outputs": [],
   "source": [
    "pattern = \"[A-Z]*_R[1-4].csv\"\n",
    "\n",
    "file_list = glob.glob(input_path + os.sep + '*' + os.sep + '*' + os.sep + pattern, recursive=True)"
   ]
  },
  {
   "cell_type": "code",
   "execution_count": 12,
   "id": "466d5fd6",
   "metadata": {},
   "outputs": [
    {
     "name": "stdout",
     "output_type": "stream",
     "text": [
      "INFO: C1223_R4 has 384 rows\n",
      "INFO: C1223_R4 has 2977 features\n",
      "INFO: Normalized with mad_robustize\n",
      "INFO: Saved C1223_R4_mad_robustize.csv\n",
      "INFO: C1227_R3 has 384 rows\n",
      "INFO: C1227_R3 has 2977 features\n",
      "INFO: Normalized with mad_robustize\n",
      "INFO: Saved C1227_R3_mad_robustize.csv\n",
      "INFO: C1220_R2 has 384 rows\n",
      "INFO: C1220_R2 has 2977 features\n",
      "INFO: Normalized with mad_robustize\n",
      "INFO: Saved C1220_R2_mad_robustize.csv\n",
      "INFO: USC01_R1 has 384 rows\n",
      "INFO: USC01_R1 has 2977 features\n",
      "INFO: Normalized with mad_robustize\n",
      "INFO: Saved USC01_R1_mad_robustize.csv\n",
      "INFO: USC02_R1 has 384 rows\n",
      "INFO: USC02_R1 has 2977 features\n",
      "INFO: Normalized with mad_robustize\n",
      "INFO: Saved USC02_R1_mad_robustize.csv\n"
     ]
    }
   ],
   "source": [
    "for file in file_list:\n",
    "    \n",
    "    plate_map_name = os.path.splitext(os.path.basename(file))[0]\n",
    "    \n",
    "    try:\n",
    "        \n",
    "        dataframe = pd.read_csv(file)\n",
    "        row_count = dataframe.shape[0]\n",
    "        \n",
    "        print(f\"INFO: {plate_map_name} has {row_count} rows\")\n",
    "        \n",
    "        \n",
    "    except Exception as e:\n",
    "        \n",
    "        print(f\"Error reading file {plate_map_name}: {e}\")   \n",
    "        \n",
    "    features = CBE.get_feature_vector(dataframe)\n",
    "    metadata_dataframe = set(dataframe.columns) - set(features)\n",
    "        \n",
    "    ### convert sets to list\n",
    "    features_list = list(features)\n",
    "    metadata_list = list(metadata_dataframe)\n",
    "        \n",
    "    number_features = len(features_list)\n",
    "        \n",
    "    print(f\"INFO: {plate_map_name} has {number_features} features\")\n",
    "        \n",
    "    normalizer = \"mad_robustize\" \n",
    "    \n",
    "    dataframe_normalized = pycytominer.normalize(\n",
    "        \n",
    "        profiles = dataframe,\n",
    "        features = features_list,\n",
    "        meta_features = metadata_list,\n",
    "        method = normalizer, ### Method to normalize the data\n",
    "        samples = \"Metadata_RoughID == 'DMSO'\" # normalization performed on neg. controls\n",
    "    )\n",
    "    \n",
    "    print(f\"INFO: Normalized with {normalizer}\")\n",
    "    \n",
    "    filename_norm_data = plate_map_name + \"_\" + normalizer + \".csv\"\n",
    "    \n",
    "    path_norm_data = os.path.dirname(file)\n",
    "    file_path_norm_data = os.path.join(path_norm_data, filename_norm_data)\n",
    "    \n",
    "    dataframe_normalized.to_csv(file_path_norm_data, index=False)\n",
    "    \n",
    "    print(f\"INFO: Saved {filename_norm_data}\")"
   ]
  },
  {
   "cell_type": "code",
   "execution_count": null,
   "id": "35368af5",
   "metadata": {},
   "outputs": [],
   "source": []
  }
 ],
 "metadata": {
  "kernelspec": {
   "display_name": "vspaint",
   "language": "python",
   "name": "python3"
  },
  "language_info": {
   "codemirror_mode": {
    "name": "ipython",
    "version": 3
   },
   "file_extension": ".py",
   "mimetype": "text/x-python",
   "name": "python",
   "nbconvert_exporter": "python",
   "pygments_lexer": "ipython3",
   "version": "3.9.16"
  }
 },
 "nbformat": 4,
 "nbformat_minor": 5
}
