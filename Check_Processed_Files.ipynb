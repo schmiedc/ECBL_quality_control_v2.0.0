{
 "cells": [
  {
   "cell_type": "code",
   "execution_count": 3,
   "metadata": {},
   "outputs": [],
   "source": [
    "import time\n",
    "from datetime import date\n",
    "import pandas as pd\n",
    "import os\n",
    "import glob\n",
    "import pycytominer\n",
    "import sys\n",
    "import CBE_utils as CBE\n",
    "import matplotlib.pyplot as plt\n",
    "import seaborn as sns\n",
    "import numpy as np\n",
    "import re\n",
    "import gc"
   ]
  },
  {
   "cell_type": "code",
   "execution_count": 5,
   "metadata": {},
   "outputs": [
    {
     "data": {
      "text/plain": [
       "<module 'CBE_utils' from '/home/schmiedc/FMP_Docs/Projects/ECBL_Project/QualityControl_analysis_revision/notebooks_revision/CBE_utils.py'>"
      ]
     },
     "execution_count": 5,
     "metadata": {},
     "output_type": "execute_result"
    }
   ],
   "source": [
    "import importlib\n",
    "importlib.reload(CBE)"
   ]
  },
  {
   "cell_type": "code",
   "execution_count": 6,
   "metadata": {},
   "outputs": [],
   "source": [
    "input_path = \"/home/schmiedc/FMP_Docs/Projects/ECBL_Project/QualityControl_analysis_revision/output/\"\n",
    "\n",
    "annotation_dir = \"/home/schmiedc/FMP_Docs/Projects/ECBL_Project/QualityControl_analysis_revision/annotation/\"\n",
    "feature_dir = \"/home/schmiedc/FMP_Docs/Projects/ECBL_Project/QualityControl_analysis_revision/reduced_features/\""
   ]
  },
  {
   "cell_type": "code",
   "execution_count": 7,
   "metadata": {},
   "outputs": [],
   "source": [
    "def list_folders(directory):\n",
    "    try:\n",
    "        # List all entries in the specified directory\n",
    "        entries = os.listdir(directory)\n",
    "        \n",
    "        # Filter out non-folder entries\n",
    "        folders = [entry for entry in entries if os.path.isdir(os.path.join(directory, entry))]\n",
    "        return folders\n",
    "    \n",
    "    except FileNotFoundError:\n",
    "        \n",
    "        return f\"The directory '{directory}' does not exist.\"\n",
    "    \n",
    "    except PermissionError:\n",
    "        \n",
    "        return f\"Permission denied to access the directory '{directory}'.\""
   ]
  },
  {
   "cell_type": "code",
   "execution_count": 8,
   "metadata": {},
   "outputs": [
    {
     "name": "stdout",
     "output_type": "stream",
     "text": [
      "IMTM\n",
      "USC\n",
      "FMP\n",
      "MEDINA\n"
     ]
    }
   ],
   "source": [
    "# TODO: Check how many unique plates exist\n",
    "source_list = list_folders(input_path)\n",
    "\n",
    "files = []\n",
    "\n",
    "for source in source_list:\n",
    "    \n",
    "    print(source)\n",
    "\n",
    "    source_path = os.path.join(input_path, source)\n",
    "\n",
    "    plate_list = list_folders(source_path)\n",
    "\n",
    "    \n",
    "\n",
    "    for plate in plate_list:\n",
    "        \n",
    "        plate_path = os.path.join(source_path, plate)\n",
    "\n",
    "        \n",
    "\n",
    "        raw_pattern = \"[A-Z][0-9][0-9][0-9][0-9]_R[1-4].csv\"\n",
    "        if glob.glob(plate_path + os.sep + raw_pattern , recursive=True):\n",
    "\n",
    "            raw_file_exists = True\n",
    "\n",
    "        else:\n",
    "\n",
    "            raw_file_exists = False\n",
    "\n",
    "        norm_pattern = \"[A-Z][0-9][0-9][0-9][0-9]_R[1-4]_mad_robustize.csv\"\n",
    "\n",
    "        if glob.glob(plate_path + os.sep + norm_pattern  , recursive=True):\n",
    "\n",
    "            norm_file_exits = True\n",
    "            \n",
    "        else:\n",
    "\n",
    "            norm_file_exits = False\n",
    "       \n",
    "        processed_pattern = \"[A-Z][0-9][0-9][0-9][0-9]_R[1-4]_mad_robustize_reduced-corr.csv\"\n",
    "        \n",
    "        if glob.glob(plate_path + os.sep + processed_pattern , recursive=True):\n",
    "\n",
    "            reduced_file_exists = True\n",
    "            \n",
    "        else:\n",
    "\n",
    "            reduced_file_exists = False\n",
    "       \n",
    "        files.append({'imaging_site': source, \n",
    "                     'plate': plate, \n",
    "                     'raw_file': raw_file_exists, \n",
    "                     'norm_file': norm_file_exits, \n",
    "                     'reduced_file': reduced_file_exists})"
   ]
  },
  {
   "cell_type": "code",
   "execution_count": 9,
   "metadata": {},
   "outputs": [],
   "source": [
    "file_check = pd.DataFrame(files)"
   ]
  },
  {
   "cell_type": "code",
   "execution_count": 10,
   "metadata": {},
   "outputs": [
    {
     "name": "stderr",
     "output_type": "stream",
     "text": [
      "<ipython-input-10-50efb533959c>:1: FutureWarning: Columnar iteration over characters will be deprecated in future releases.\n",
      "  file_check['batch'], file_check['plate_name'], file_check['replicate'] = file_check['plate'].str.split('_', n=2).str\n"
     ]
    }
   ],
   "source": [
    "file_check['batch'], file_check['plate_name'], file_check['replicate'] = file_check['plate'].str.split('_', n=2).str"
   ]
  },
  {
   "cell_type": "code",
   "execution_count": 11,
   "metadata": {},
   "outputs": [
    {
     "data": {
      "text/html": [
       "<div>\n",
       "<style scoped>\n",
       "    .dataframe tbody tr th:only-of-type {\n",
       "        vertical-align: middle;\n",
       "    }\n",
       "\n",
       "    .dataframe tbody tr th {\n",
       "        vertical-align: top;\n",
       "    }\n",
       "\n",
       "    .dataframe thead th {\n",
       "        text-align: right;\n",
       "    }\n",
       "</style>\n",
       "<table border=\"1\" class=\"dataframe\">\n",
       "  <thead>\n",
       "    <tr style=\"text-align: right;\">\n",
       "      <th></th>\n",
       "      <th>imaging_site</th>\n",
       "      <th>plate</th>\n",
       "      <th>raw_file</th>\n",
       "      <th>norm_file</th>\n",
       "      <th>reduced_file</th>\n",
       "      <th>batch</th>\n",
       "      <th>plate_name</th>\n",
       "      <th>replicate</th>\n",
       "    </tr>\n",
       "  </thead>\n",
       "  <tbody>\n",
       "    <tr>\n",
       "      <th>0</th>\n",
       "      <td>IMTM</td>\n",
       "      <td>2024-09-05_C1269_R2</td>\n",
       "      <td>True</td>\n",
       "      <td>True</td>\n",
       "      <td>True</td>\n",
       "      <td>2024-09-05</td>\n",
       "      <td>C1269</td>\n",
       "      <td>R2</td>\n",
       "    </tr>\n",
       "    <tr>\n",
       "      <th>1</th>\n",
       "      <td>IMTM</td>\n",
       "      <td>2025-01-09_C1242_R2</td>\n",
       "      <td>True</td>\n",
       "      <td>True</td>\n",
       "      <td>True</td>\n",
       "      <td>2025-01-09</td>\n",
       "      <td>C1242</td>\n",
       "      <td>R2</td>\n",
       "    </tr>\n",
       "    <tr>\n",
       "      <th>2</th>\n",
       "      <td>IMTM</td>\n",
       "      <td>2024-11-06_C1288_R1</td>\n",
       "      <td>True</td>\n",
       "      <td>True</td>\n",
       "      <td>True</td>\n",
       "      <td>2024-11-06</td>\n",
       "      <td>C1288</td>\n",
       "      <td>R1</td>\n",
       "    </tr>\n",
       "    <tr>\n",
       "      <th>3</th>\n",
       "      <td>IMTM</td>\n",
       "      <td>2024-06-25_C1240_R4</td>\n",
       "      <td>True</td>\n",
       "      <td>True</td>\n",
       "      <td>True</td>\n",
       "      <td>2024-06-25</td>\n",
       "      <td>C1240</td>\n",
       "      <td>R4</td>\n",
       "    </tr>\n",
       "    <tr>\n",
       "      <th>4</th>\n",
       "      <td>IMTM</td>\n",
       "      <td>2025-01-13_C1242_R3</td>\n",
       "      <td>True</td>\n",
       "      <td>True</td>\n",
       "      <td>True</td>\n",
       "      <td>2025-01-13</td>\n",
       "      <td>C1242</td>\n",
       "      <td>R3</td>\n",
       "    </tr>\n",
       "    <tr>\n",
       "      <th>...</th>\n",
       "      <td>...</td>\n",
       "      <td>...</td>\n",
       "      <td>...</td>\n",
       "      <td>...</td>\n",
       "      <td>...</td>\n",
       "      <td>...</td>\n",
       "      <td>...</td>\n",
       "      <td>...</td>\n",
       "    </tr>\n",
       "    <tr>\n",
       "      <th>959</th>\n",
       "      <td>MEDINA</td>\n",
       "      <td>2024-10-28_C1041_R3</td>\n",
       "      <td>True</td>\n",
       "      <td>True</td>\n",
       "      <td>True</td>\n",
       "      <td>2024-10-28</td>\n",
       "      <td>C1041</td>\n",
       "      <td>R3</td>\n",
       "    </tr>\n",
       "    <tr>\n",
       "      <th>960</th>\n",
       "      <td>MEDINA</td>\n",
       "      <td>2025-02-10_C1065_R4</td>\n",
       "      <td>True</td>\n",
       "      <td>True</td>\n",
       "      <td>True</td>\n",
       "      <td>2025-02-10</td>\n",
       "      <td>C1065</td>\n",
       "      <td>R4</td>\n",
       "    </tr>\n",
       "    <tr>\n",
       "      <th>961</th>\n",
       "      <td>MEDINA</td>\n",
       "      <td>2025-01-23_C1066_R3</td>\n",
       "      <td>True</td>\n",
       "      <td>True</td>\n",
       "      <td>True</td>\n",
       "      <td>2025-01-23</td>\n",
       "      <td>C1066</td>\n",
       "      <td>R3</td>\n",
       "    </tr>\n",
       "    <tr>\n",
       "      <th>962</th>\n",
       "      <td>MEDINA</td>\n",
       "      <td>2024-09-25_C1038_R2</td>\n",
       "      <td>True</td>\n",
       "      <td>True</td>\n",
       "      <td>True</td>\n",
       "      <td>2024-09-25</td>\n",
       "      <td>C1038</td>\n",
       "      <td>R2</td>\n",
       "    </tr>\n",
       "    <tr>\n",
       "      <th>963</th>\n",
       "      <td>MEDINA</td>\n",
       "      <td>2024-07-24_C1018_R2</td>\n",
       "      <td>True</td>\n",
       "      <td>True</td>\n",
       "      <td>True</td>\n",
       "      <td>2024-07-24</td>\n",
       "      <td>C1018</td>\n",
       "      <td>R2</td>\n",
       "    </tr>\n",
       "  </tbody>\n",
       "</table>\n",
       "<p>964 rows × 8 columns</p>\n",
       "</div>"
      ],
      "text/plain": [
       "    imaging_site                plate  raw_file  norm_file  reduced_file  \\\n",
       "0           IMTM  2024-09-05_C1269_R2      True       True          True   \n",
       "1           IMTM  2025-01-09_C1242_R2      True       True          True   \n",
       "2           IMTM  2024-11-06_C1288_R1      True       True          True   \n",
       "3           IMTM  2024-06-25_C1240_R4      True       True          True   \n",
       "4           IMTM  2025-01-13_C1242_R3      True       True          True   \n",
       "..           ...                  ...       ...        ...           ...   \n",
       "959       MEDINA  2024-10-28_C1041_R3      True       True          True   \n",
       "960       MEDINA  2025-02-10_C1065_R4      True       True          True   \n",
       "961       MEDINA  2025-01-23_C1066_R3      True       True          True   \n",
       "962       MEDINA  2024-09-25_C1038_R2      True       True          True   \n",
       "963       MEDINA  2024-07-24_C1018_R2      True       True          True   \n",
       "\n",
       "          batch plate_name replicate  \n",
       "0    2024-09-05      C1269        R2  \n",
       "1    2025-01-09      C1242        R2  \n",
       "2    2024-11-06      C1288        R1  \n",
       "3    2024-06-25      C1240        R4  \n",
       "4    2025-01-13      C1242        R3  \n",
       "..          ...        ...       ...  \n",
       "959  2024-10-28      C1041        R3  \n",
       "960  2025-02-10      C1065        R4  \n",
       "961  2025-01-23      C1066        R3  \n",
       "962  2024-09-25      C1038        R2  \n",
       "963  2024-07-24      C1018        R2  \n",
       "\n",
       "[964 rows x 8 columns]"
      ]
     },
     "execution_count": 11,
     "metadata": {},
     "output_type": "execute_result"
    }
   ],
   "source": [
    "file_check"
   ]
  },
  {
   "cell_type": "code",
   "execution_count": 28,
   "metadata": {},
   "outputs": [],
   "source": [
    "def file_checker(file_check_dataframe, site_string):\n",
    "\n",
    "    site_files = file_check_dataframe[file_check_dataframe['imaging_site'] == site_string] \n",
    "\n",
    "    print( site_string + ' file check:')\n",
    "    print(str(site_files['raw_file'].count()) + ' raw file(s)')\n",
    "    print(str(site_files['norm_file'].count()) + ' normalized file(s)')\n",
    "    print(str(site_files['reduced_file'].count()) + ' feature reduced file(s)')"
   ]
  },
  {
   "cell_type": "code",
   "execution_count": 29,
   "metadata": {},
   "outputs": [
    {
     "name": "stdout",
     "output_type": "stream",
     "text": [
      "IMTM file check:\n",
      "247 raw file(s)\n",
      "247 normalized file(s)\n",
      "247 feature reduced file(s)\n"
     ]
    }
   ],
   "source": [
    "file_checker(file_check, 'IMTM')"
   ]
  },
  {
   "cell_type": "code",
   "execution_count": 30,
   "metadata": {},
   "outputs": [
    {
     "name": "stdout",
     "output_type": "stream",
     "text": [
      "FMP file check:\n",
      "184 raw file(s)\n",
      "184 normalized file(s)\n",
      "184 feature reduced file(s)\n"
     ]
    }
   ],
   "source": [
    "file_checker(file_check, 'FMP')"
   ]
  },
  {
   "cell_type": "code",
   "execution_count": 31,
   "metadata": {},
   "outputs": [
    {
     "name": "stdout",
     "output_type": "stream",
     "text": [
      "USC file check:\n",
      "283 raw file(s)\n",
      "283 normalized file(s)\n",
      "283 feature reduced file(s)\n"
     ]
    }
   ],
   "source": [
    "file_checker(file_check, 'USC')"
   ]
  },
  {
   "cell_type": "code",
   "execution_count": 32,
   "metadata": {},
   "outputs": [
    {
     "name": "stdout",
     "output_type": "stream",
     "text": [
      "MEDINA file check:\n",
      "250 raw file(s)\n",
      "250 normalized file(s)\n",
      "250 feature reduced file(s)\n"
     ]
    }
   ],
   "source": [
    "file_checker(file_check, 'MEDINA')"
   ]
  },
  {
   "cell_type": "code",
   "execution_count": null,
   "metadata": {},
   "outputs": [],
   "source": []
  }
 ],
 "metadata": {
  "kernelspec": {
   "display_name": "vspaint",
   "language": "python",
   "name": "python3"
  },
  "language_info": {
   "codemirror_mode": {
    "name": "ipython",
    "version": 3
   },
   "file_extension": ".py",
   "mimetype": "text/x-python",
   "name": "python",
   "nbconvert_exporter": "python",
   "pygments_lexer": "ipython3",
   "version": "3.9.16"
  }
 },
 "nbformat": 4,
 "nbformat_minor": 2
}
