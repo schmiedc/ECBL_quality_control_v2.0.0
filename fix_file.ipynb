{
 "cells": [
  {
   "cell_type": "code",
   "execution_count": 28,
   "id": "805c4430",
   "metadata": {},
   "outputs": [],
   "source": [
    "import pandas as pd\n",
    "\n",
    "folder = \"/home/schmiedc/FMP_Docs/Projects/ECBL_Project/QualityControl_analysis_revision/output/IMTM/invalid-date_C1236_R2/\"\n",
    "file = \"C1236_R2_mad_robustize_reduced-corr.csv\"\n"
   ]
  },
  {
   "cell_type": "code",
   "execution_count": 29,
   "id": "04267cd1",
   "metadata": {},
   "outputs": [],
   "source": [
    "dataframe = pd.read_csv(folder + file)\n",
    "dataframe['Metadata_staining_date'] = dataframe['Metadata_staining_date'].str.replace(\"_\", \"-\", regex=False)"
   ]
  },
  {
   "cell_type": "code",
   "execution_count": 30,
   "id": "4f29512f",
   "metadata": {},
   "outputs": [],
   "source": [
    "dataframe.to_csv(folder + file)"
   ]
  },
  {
   "cell_type": "code",
   "execution_count": null,
   "id": "a2238ba0",
   "metadata": {},
   "outputs": [],
   "source": []
  }
 ],
 "metadata": {
  "kernelspec": {
   "display_name": "vspaint",
   "language": "python",
   "name": "python3"
  },
  "language_info": {
   "codemirror_mode": {
    "name": "ipython",
    "version": 3
   },
   "file_extension": ".py",
   "mimetype": "text/x-python",
   "name": "python",
   "nbconvert_exporter": "python",
   "pygments_lexer": "ipython3",
   "version": "3.9.16"
  }
 },
 "nbformat": 4,
 "nbformat_minor": 5
}
